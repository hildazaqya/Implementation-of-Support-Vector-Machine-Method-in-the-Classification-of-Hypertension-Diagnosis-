{
 "cells": [
  {
   "cell_type": "markdown",
   "id": "88825992",
   "metadata": {},
   "source": [
    "## Import Library "
   ]
  },
  {
   "cell_type": "code",
   "execution_count": 1,
   "id": "deae212f",
   "metadata": {},
   "outputs": [],
   "source": [
    "import numpy as np\n",
    "import pandas as pd\n",
    "import matplotlib.pyplot as plt\n",
    "import seaborn as sns\n",
    "from sklearn.preprocessing import OneHotEncoder\n",
    "from sklearn import preprocessing\n",
    "from sklearn.svm import SVC\n",
    "from sklearn.metrics import accuracy_score, recall_score, precision_score,confusion_matrix, roc_auc_score, f1_score\n",
    "from sklearn import metrics\n",
    "from sklearn import svm, datasets\n",
    "from sklearn.model_selection import cross_val_score\n",
    "from sklearn.model_selection import KFold\n",
    "#--------------Evaluasi--------------------\n",
    "from sklearn.metrics import confusion_matrix\n",
    "from sklearn.metrics import accuracy_score\n",
    "from sklearn.metrics import confusion_matrix,classification_report\n",
    "from sklearn.metrics import precision_recall_fscore_support as score\n",
    "import tensorflow as tf\n",
    "\n",
    "# from jupyterthemes import jtplot\n",
    "# jtplot.style(theme='monokai', context='notebook', ticks=True, grid=False)"
   ]
  },
  {
   "cell_type": "markdown",
   "id": "09f275c1",
   "metadata": {},
   "source": [
    "# 1. Exploratory Data Analysis"
   ]
  },
  {
   "cell_type": "code",
   "execution_count": 2,
   "id": "1912e31b",
   "metadata": {},
   "outputs": [
    {
     "data": {
      "text/html": [
       "<div>\n",
       "<style scoped>\n",
       "    .dataframe tbody tr th:only-of-type {\n",
       "        vertical-align: middle;\n",
       "    }\n",
       "\n",
       "    .dataframe tbody tr th {\n",
       "        vertical-align: top;\n",
       "    }\n",
       "\n",
       "    .dataframe thead th {\n",
       "        text-align: right;\n",
       "    }\n",
       "</style>\n",
       "<table border=\"1\" class=\"dataframe\">\n",
       "  <thead>\n",
       "    <tr style=\"text-align: right;\">\n",
       "      <th></th>\n",
       "      <th>TANGGAL LAHIR *</th>\n",
       "      <th>JENIS KELAMIN *</th>\n",
       "      <th>MEROKOK</th>\n",
       "      <th>KURANG AKTIFITAS FISIK</th>\n",
       "      <th>GULA BERLEBIHAN</th>\n",
       "      <th>GARAM BERLEBIHAN</th>\n",
       "      <th>LEMAK BERLEBIHAN</th>\n",
       "      <th>KURANG MAKAN BUAH DAN SAYUR</th>\n",
       "      <th>KONSUMSI ALKOHOL</th>\n",
       "      <th>SISTOL</th>\n",
       "      <th>DIASTOL</th>\n",
       "      <th>Diagnosis</th>\n",
       "    </tr>\n",
       "  </thead>\n",
       "  <tbody>\n",
       "    <tr>\n",
       "      <th>0</th>\n",
       "      <td>27-05-1994</td>\n",
       "      <td>PEREMPUAN</td>\n",
       "      <td>TIDAK</td>\n",
       "      <td>YA</td>\n",
       "      <td>TIDAK</td>\n",
       "      <td>TIDAK</td>\n",
       "      <td>TIDAK</td>\n",
       "      <td>TIDAK</td>\n",
       "      <td>TIDAK</td>\n",
       "      <td>110</td>\n",
       "      <td>70</td>\n",
       "      <td>Tidak Hipertensi</td>\n",
       "    </tr>\n",
       "    <tr>\n",
       "      <th>1</th>\n",
       "      <td>30-04-1993</td>\n",
       "      <td>PEREMPUAN</td>\n",
       "      <td>TIDAK</td>\n",
       "      <td>TIDAK</td>\n",
       "      <td>TIDAK</td>\n",
       "      <td>TIDAK</td>\n",
       "      <td>TIDAK</td>\n",
       "      <td>TIDAK</td>\n",
       "      <td>TIDAK</td>\n",
       "      <td>120</td>\n",
       "      <td>80</td>\n",
       "      <td>Tidak Hipertensi</td>\n",
       "    </tr>\n",
       "    <tr>\n",
       "      <th>2</th>\n",
       "      <td>27-03-1999</td>\n",
       "      <td>PEREMPUAN</td>\n",
       "      <td>TIDAK</td>\n",
       "      <td>YA</td>\n",
       "      <td>TIDAK</td>\n",
       "      <td>TIDAK</td>\n",
       "      <td>YA</td>\n",
       "      <td>YA</td>\n",
       "      <td>TIDAK</td>\n",
       "      <td>115</td>\n",
       "      <td>78</td>\n",
       "      <td>Tidak Hipertensi</td>\n",
       "    </tr>\n",
       "    <tr>\n",
       "      <th>3</th>\n",
       "      <td>22-06-1983</td>\n",
       "      <td>PEREMPUAN</td>\n",
       "      <td>TIDAK</td>\n",
       "      <td>TIDAK</td>\n",
       "      <td>TIDAK</td>\n",
       "      <td>TIDAK</td>\n",
       "      <td>TIDAK</td>\n",
       "      <td>TIDAK</td>\n",
       "      <td>TIDAK</td>\n",
       "      <td>112</td>\n",
       "      <td>78</td>\n",
       "      <td>Tidak Hipertensi</td>\n",
       "    </tr>\n",
       "    <tr>\n",
       "      <th>4</th>\n",
       "      <td>07-04-1998</td>\n",
       "      <td>PEREMPUAN</td>\n",
       "      <td>TIDAK</td>\n",
       "      <td>TIDAK</td>\n",
       "      <td>TIDAK</td>\n",
       "      <td>TIDAK</td>\n",
       "      <td>TIDAK</td>\n",
       "      <td>TIDAK</td>\n",
       "      <td>TIDAK</td>\n",
       "      <td>98</td>\n",
       "      <td>69</td>\n",
       "      <td>Tidak Hipertensi</td>\n",
       "    </tr>\n",
       "    <tr>\n",
       "      <th>...</th>\n",
       "      <td>...</td>\n",
       "      <td>...</td>\n",
       "      <td>...</td>\n",
       "      <td>...</td>\n",
       "      <td>...</td>\n",
       "      <td>...</td>\n",
       "      <td>...</td>\n",
       "      <td>...</td>\n",
       "      <td>...</td>\n",
       "      <td>...</td>\n",
       "      <td>...</td>\n",
       "      <td>...</td>\n",
       "    </tr>\n",
       "    <tr>\n",
       "      <th>1368</th>\n",
       "      <td>09-04-1938</td>\n",
       "      <td>PEREMPUAN</td>\n",
       "      <td>TIDAK</td>\n",
       "      <td>TIDAK</td>\n",
       "      <td>YA</td>\n",
       "      <td>TIDAK</td>\n",
       "      <td>TIDAK</td>\n",
       "      <td>TIDAK</td>\n",
       "      <td>TIDAK</td>\n",
       "      <td>170</td>\n",
       "      <td>70</td>\n",
       "      <td>Tidak Hipertensi</td>\n",
       "    </tr>\n",
       "    <tr>\n",
       "      <th>1369</th>\n",
       "      <td>20-07-1961</td>\n",
       "      <td>PEREMPUAN</td>\n",
       "      <td>TIDAK</td>\n",
       "      <td>TIDAK</td>\n",
       "      <td>TIDAK</td>\n",
       "      <td>TIDAK</td>\n",
       "      <td>TIDAK</td>\n",
       "      <td>YA</td>\n",
       "      <td>TIDAK</td>\n",
       "      <td>116</td>\n",
       "      <td>72</td>\n",
       "      <td>Tidak Hipertensi</td>\n",
       "    </tr>\n",
       "    <tr>\n",
       "      <th>1370</th>\n",
       "      <td>20-04-1957</td>\n",
       "      <td>PEREMPUAN</td>\n",
       "      <td>TIDAK</td>\n",
       "      <td>TIDAK</td>\n",
       "      <td>TIDAK</td>\n",
       "      <td>TIDAK</td>\n",
       "      <td>TIDAK</td>\n",
       "      <td>YA</td>\n",
       "      <td>TIDAK</td>\n",
       "      <td>155</td>\n",
       "      <td>52</td>\n",
       "      <td>Tidak Hipertensi</td>\n",
       "    </tr>\n",
       "    <tr>\n",
       "      <th>1371</th>\n",
       "      <td>01-01-1980</td>\n",
       "      <td>PEREMPUAN</td>\n",
       "      <td>TIDAK</td>\n",
       "      <td>TIDAK</td>\n",
       "      <td>TIDAK</td>\n",
       "      <td>TIDAK</td>\n",
       "      <td>TIDAK</td>\n",
       "      <td>TIDAK</td>\n",
       "      <td>TIDAK</td>\n",
       "      <td>140</td>\n",
       "      <td>85</td>\n",
       "      <td>Hipertensi</td>\n",
       "    </tr>\n",
       "    <tr>\n",
       "      <th>1372</th>\n",
       "      <td>16-10-1946</td>\n",
       "      <td>PEREMPUAN</td>\n",
       "      <td>TIDAK</td>\n",
       "      <td>TIDAK</td>\n",
       "      <td>TIDAK</td>\n",
       "      <td>YA</td>\n",
       "      <td>YA</td>\n",
       "      <td>YA</td>\n",
       "      <td>TIDAK</td>\n",
       "      <td>170</td>\n",
       "      <td>80</td>\n",
       "      <td>Tidak Hipertensi</td>\n",
       "    </tr>\n",
       "  </tbody>\n",
       "</table>\n",
       "<p>1373 rows × 12 columns</p>\n",
       "</div>"
      ],
      "text/plain": [
       "     TANGGAL LAHIR * JENIS KELAMIN * MEROKOK KURANG AKTIFITAS FISIK  \\\n",
       "0         27-05-1994       PEREMPUAN   TIDAK                     YA   \n",
       "1         30-04-1993       PEREMPUAN   TIDAK                  TIDAK   \n",
       "2         27-03-1999       PEREMPUAN   TIDAK                     YA   \n",
       "3         22-06-1983       PEREMPUAN   TIDAK                  TIDAK   \n",
       "4         07-04-1998       PEREMPUAN   TIDAK                  TIDAK   \n",
       "...              ...             ...     ...                    ...   \n",
       "1368      09-04-1938       PEREMPUAN   TIDAK                  TIDAK   \n",
       "1369      20-07-1961       PEREMPUAN   TIDAK                  TIDAK   \n",
       "1370      20-04-1957       PEREMPUAN   TIDAK                  TIDAK   \n",
       "1371      01-01-1980       PEREMPUAN   TIDAK                  TIDAK   \n",
       "1372      16-10-1946       PEREMPUAN   TIDAK                  TIDAK   \n",
       "\n",
       "     GULA BERLEBIHAN GARAM BERLEBIHAN LEMAK BERLEBIHAN  \\\n",
       "0              TIDAK            TIDAK            TIDAK   \n",
       "1              TIDAK            TIDAK            TIDAK   \n",
       "2              TIDAK            TIDAK               YA   \n",
       "3              TIDAK            TIDAK            TIDAK   \n",
       "4              TIDAK            TIDAK            TIDAK   \n",
       "...              ...              ...              ...   \n",
       "1368              YA            TIDAK            TIDAK   \n",
       "1369           TIDAK            TIDAK            TIDAK   \n",
       "1370           TIDAK            TIDAK            TIDAK   \n",
       "1371           TIDAK            TIDAK            TIDAK   \n",
       "1372           TIDAK               YA               YA   \n",
       "\n",
       "     KURANG MAKAN BUAH DAN SAYUR KONSUMSI ALKOHOL  SISTOL  DIASTOL  \\\n",
       "0                          TIDAK            TIDAK     110       70   \n",
       "1                          TIDAK            TIDAK     120       80   \n",
       "2                             YA            TIDAK     115       78   \n",
       "3                          TIDAK            TIDAK     112       78   \n",
       "4                          TIDAK            TIDAK      98       69   \n",
       "...                          ...              ...     ...      ...   \n",
       "1368                       TIDAK            TIDAK     170       70   \n",
       "1369                          YA            TIDAK     116       72   \n",
       "1370                          YA            TIDAK     155       52   \n",
       "1371                       TIDAK            TIDAK     140       85   \n",
       "1372                          YA            TIDAK     170       80   \n",
       "\n",
       "             Diagnosis  \n",
       "0     Tidak Hipertensi  \n",
       "1     Tidak Hipertensi  \n",
       "2     Tidak Hipertensi  \n",
       "3     Tidak Hipertensi  \n",
       "4     Tidak Hipertensi  \n",
       "...                ...  \n",
       "1368  Tidak Hipertensi  \n",
       "1369  Tidak Hipertensi  \n",
       "1370  Tidak Hipertensi  \n",
       "1371        Hipertensi  \n",
       "1372  Tidak Hipertensi  \n",
       "\n",
       "[1373 rows x 12 columns]"
      ]
     },
     "execution_count": 2,
     "metadata": {},
     "output_type": "execute_result"
    }
   ],
   "source": [
    "dataset = pd.read_excel(\"skrining _skripsi hilda.xlsx\")\n",
    "dataset"
   ]
  },
  {
   "cell_type": "code",
   "execution_count": 3,
   "id": "f760d0cf",
   "metadata": {},
   "outputs": [
    {
     "name": "stdout",
     "output_type": "stream",
     "text": [
      "<class 'pandas.core.frame.DataFrame'>\n",
      "RangeIndex: 1373 entries, 0 to 1372\n",
      "Data columns (total 12 columns):\n",
      " #   Column                       Non-Null Count  Dtype \n",
      "---  ------                       --------------  ----- \n",
      " 0   TANGGAL LAHIR *              1373 non-null   object\n",
      " 1   JENIS KELAMIN *              1373 non-null   object\n",
      " 2   MEROKOK                      1373 non-null   object\n",
      " 3   KURANG AKTIFITAS FISIK       1373 non-null   object\n",
      " 4   GULA BERLEBIHAN              1373 non-null   object\n",
      " 5   GARAM BERLEBIHAN             1373 non-null   object\n",
      " 6   LEMAK BERLEBIHAN             1373 non-null   object\n",
      " 7   KURANG MAKAN BUAH DAN SAYUR  1373 non-null   object\n",
      " 8   KONSUMSI ALKOHOL             1373 non-null   object\n",
      " 9   SISTOL                       1373 non-null   int64 \n",
      " 10  DIASTOL                      1373 non-null   int64 \n",
      " 11  Diagnosis                    1373 non-null   object\n",
      "dtypes: int64(2), object(10)\n",
      "memory usage: 128.8+ KB\n"
     ]
    }
   ],
   "source": [
    "dataset.info()"
   ]
  },
  {
   "cell_type": "code",
   "execution_count": 4,
   "id": "b1342a69",
   "metadata": {},
   "outputs": [
    {
     "data": {
      "text/html": [
       "<div>\n",
       "<style scoped>\n",
       "    .dataframe tbody tr th:only-of-type {\n",
       "        vertical-align: middle;\n",
       "    }\n",
       "\n",
       "    .dataframe tbody tr th {\n",
       "        vertical-align: top;\n",
       "    }\n",
       "\n",
       "    .dataframe thead th {\n",
       "        text-align: right;\n",
       "    }\n",
       "</style>\n",
       "<table border=\"1\" class=\"dataframe\">\n",
       "  <thead>\n",
       "    <tr style=\"text-align: right;\">\n",
       "      <th></th>\n",
       "      <th>SISTOL</th>\n",
       "      <th>DIASTOL</th>\n",
       "    </tr>\n",
       "  </thead>\n",
       "  <tbody>\n",
       "    <tr>\n",
       "      <th>count</th>\n",
       "      <td>1373.000000</td>\n",
       "      <td>1373.000000</td>\n",
       "    </tr>\n",
       "    <tr>\n",
       "      <th>mean</th>\n",
       "      <td>132.364894</td>\n",
       "      <td>80.231610</td>\n",
       "    </tr>\n",
       "    <tr>\n",
       "      <th>std</th>\n",
       "      <td>22.399048</td>\n",
       "      <td>11.580506</td>\n",
       "    </tr>\n",
       "    <tr>\n",
       "      <th>min</th>\n",
       "      <td>81.000000</td>\n",
       "      <td>11.000000</td>\n",
       "    </tr>\n",
       "    <tr>\n",
       "      <th>25%</th>\n",
       "      <td>117.000000</td>\n",
       "      <td>72.000000</td>\n",
       "    </tr>\n",
       "    <tr>\n",
       "      <th>50%</th>\n",
       "      <td>130.000000</td>\n",
       "      <td>80.000000</td>\n",
       "    </tr>\n",
       "    <tr>\n",
       "      <th>75%</th>\n",
       "      <td>147.000000</td>\n",
       "      <td>88.000000</td>\n",
       "    </tr>\n",
       "    <tr>\n",
       "      <th>max</th>\n",
       "      <td>240.000000</td>\n",
       "      <td>155.000000</td>\n",
       "    </tr>\n",
       "  </tbody>\n",
       "</table>\n",
       "</div>"
      ],
      "text/plain": [
       "            SISTOL      DIASTOL\n",
       "count  1373.000000  1373.000000\n",
       "mean    132.364894    80.231610\n",
       "std      22.399048    11.580506\n",
       "min      81.000000    11.000000\n",
       "25%     117.000000    72.000000\n",
       "50%     130.000000    80.000000\n",
       "75%     147.000000    88.000000\n",
       "max     240.000000   155.000000"
      ]
     },
     "execution_count": 4,
     "metadata": {},
     "output_type": "execute_result"
    }
   ],
   "source": [
    "dataset.describe()"
   ]
  },
  {
   "cell_type": "code",
   "execution_count": 5,
   "id": "10746e7d",
   "metadata": {},
   "outputs": [
    {
     "data": {
      "image/png": "[encoded data removed]",
      "text/plain": [
       "<Figure size 720x576 with 1 Axes>"
      ]
     },
     "metadata": {},
     "output_type": "display_data"
    }
   ],
   "source": [
    "plt.figure(figsize = (10, 8))\n",
    "plt.pie(pd.value_counts(dataset['Diagnosis']), \n",
    "        labels = ['Tidak Hipertensi','Hipertensi'],\n",
    "        autopct = '%.2f%%',\n",
    "        textprops = {'size' : 'x-large',\n",
    "                     'fontweight' : 'bold', \n",
    "                     'rotation' : '0',\n",
    "                     'color' : 'w'})\n",
    "\n",
    "plt.legend()\n",
    "# plt.title('Persentase hipertensi', fontsize = 15, fontweight = 'bold')\n",
    "plt.show()"
   ]
  },
  {
   "cell_type": "code",
   "execution_count": 6,
   "id": "63d00871",
   "metadata": {},
   "outputs": [
    {
     "data": {
      "text/plain": [
       "Tidak Hipertensi    996\n",
       "Hipertensi          377\n",
       "Name: Diagnosis, dtype: int64"
      ]
     },
     "execution_count": 6,
     "metadata": {},
     "output_type": "execute_result"
    }
   ],
   "source": [
    "dataset[\"Diagnosis\"].value_counts()"
   ]
  },
  {
   "cell_type": "code",
   "execution_count": 7,
   "id": "b48a677b",
   "metadata": {
    "scrolled": false
   },
   "outputs": [
    {
     "data": {
      "image/png": "[encoded data removed]",
      "text/plain": [
       "<Figure size 720x432 with 1 Axes>"
      ]
     },
     "metadata": {
      "needs_background": "light"
     },
     "output_type": "display_data"
    }
   ],
   "source": [
    "# Buat plot\n",
    "plt.figure(figsize=(10, 6))\n",
    "plot = dataset[\"Diagnosis\"].value_counts().plot(kind=\"bar\", color=['salmon', 'aqua'])\n",
    "\n",
    "# Tambahkan label jumlah di atas setiap bar plot\n",
    "for i in plot.patches:\n",
    "    plt.annotate(str(i.get_height()), (i.get_x() + i.get_width() / 2., i.get_height()), ha='center', va='center', fontsize=12, xytext=(0, 10), textcoords='offset points')\n",
    "\n",
    "# Tampilkan plot\n",
    "plt.show()"
   ]
  },
  {
   "cell_type": "code",
   "execution_count": 11,
   "id": "82c7b457",
   "metadata": {},
   "outputs": [
    {
     "data": {
      "image/png": "[encoded data removed]",
      "text/plain": [
       "<Figure size 1800x720 with 7 Axes>"
      ]
     },
     "metadata": {
      "needs_background": "light"
     },
     "output_type": "display_data"
    }
   ],
   "source": [
    "# Categorical Bivariate Analysis\n",
    "cat = ['MEROKOK', 'KURANG AKTIFITAS FISIK', 'GULA BERLEBIHAN', 'GARAM BERLEBIHAN', 'LEMAK BERLEBIHAN', 'KURANG MAKAN BUAH DAN SAYUR', 'KONSUMSI ALKOHOL']\n",
    "plt.figure(figsize=(25, 10))  # Adjust the figure size as needed\n",
    "import matplotlib.patches as mpatches  # Not used in this specific solution, but potentially useful\n",
    "\n",
    "for i, attribute in enumerate(cat, 1):\n",
    "  plt.subplot(2, 4, i)\n",
    "  bars = sns.countplot(data=dataset, x=attribute, hue='Diagnosis')  # Get BarContainer\n",
    "\n",
    "  # Access individual bar heights\n",
    "  for bar in bars.containers[0]:  # Assuming first hue category\n",
    "    height = bar.get_height()\n",
    "    plt.text(bar.get_x() + bar.get_width() / 2, height + 0.1, height, ha='center', va='bottom')\n",
    "\n",
    "    for bar in bars.containers[1]:  # Assuming first hue category\n",
    "        height = bar.get_height()\n",
    "        plt.text(bar.get_x() + bar.get_width() / 2, height + 0.1, height, ha='center', va='bottom')\n",
    "    \n",
    "  plt.title(f'Countplot for {attribute}')\n",
    "  plt.tight_layout()\n",
    "\n",
    "plt.show()"
   ]
  },
  {
   "cell_type": "markdown",
   "id": "2000289d",
   "metadata": {},
   "source": [
    "# 2. Data Preprocessing"
   ]
  },
  {
   "cell_type": "markdown",
   "id": "79097269",
   "metadata": {},
   "source": [
    "Data Transformation"
   ]
  },
  {
   "cell_type": "code",
   "execution_count": 9,
   "id": "5e7d1ffb",
   "metadata": {},
   "outputs": [],
   "source": [
    "dataset['MEROKOK'] = dataset['MEROKOK'].map({'YA': 1, 'TIDAK': 0})\n",
    "dataset['KURANG AKTIFITAS FISIK'] = dataset['KURANG AKTIFITAS FISIK'].map({'YA': 1, 'TIDAK': 0})\n",
    "dataset['GULA BERLEBIHAN'] = dataset['GULA BERLEBIHAN'].map({'YA': 1, 'TIDAK': 0})\n",
    "dataset['LEMAK BERLEBIHAN'] = dataset['LEMAK BERLEBIHAN'].map({'YA': 1, 'TIDAK': 0})\n",
    "dataset['KURANG MAKAN BUAH DAN SAYUR'] = dataset['KURANG MAKAN BUAH DAN SAYUR'].map({'YA': 1, 'TIDAK': 0})\n",
    "dataset['KONSUMSI ALKOHOL'] = dataset['KONSUMSI ALKOHOL'].map({'YA': 1, 'TIDAK': 0})\n",
    "dataset['GARAM BERLEBIHAN'] = dataset['GARAM BERLEBIHAN'].map({'YA': 1, 'TIDAK': 0})"
   ]
  },
  {
   "cell_type": "code",
   "execution_count": 10,
   "id": "fa33006c",
   "metadata": {},
   "outputs": [],
   "source": [
    "dataset['Diagnosis'] = dataset['Diagnosis'].map({'Hipertensi': 1, 'Tidak Hipertensi': 0})"
   ]
  },
  {
   "cell_type": "code",
   "execution_count": 11,
   "id": "25b0dba7",
   "metadata": {
    "scrolled": true
   },
   "outputs": [
    {
     "data": {
      "text/html": [
       "<div>\n",
       "<style scoped>\n",
       "    .dataframe tbody tr th:only-of-type {\n",
       "        vertical-align: middle;\n",
       "    }\n",
       "\n",
       "    .dataframe tbody tr th {\n",
       "        vertical-align: top;\n",
       "    }\n",
       "\n",
       "    .dataframe thead th {\n",
       "        text-align: right;\n",
       "    }\n",
       "</style>\n",
       "<table border=\"1\" class=\"dataframe\">\n",
       "  <thead>\n",
       "    <tr style=\"text-align: right;\">\n",
       "      <th></th>\n",
       "      <th>TANGGAL LAHIR *</th>\n",
       "      <th>JENIS KELAMIN *</th>\n",
       "      <th>MEROKOK</th>\n",
       "      <th>KURANG AKTIFITAS FISIK</th>\n",
       "      <th>GULA BERLEBIHAN</th>\n",
       "      <th>GARAM BERLEBIHAN</th>\n",
       "      <th>LEMAK BERLEBIHAN</th>\n",
       "      <th>KURANG MAKAN BUAH DAN SAYUR</th>\n",
       "      <th>KONSUMSI ALKOHOL</th>\n",
       "      <th>SISTOL</th>\n",
       "      <th>DIASTOL</th>\n",
       "      <th>Diagnosis</th>\n",
       "    </tr>\n",
       "  </thead>\n",
       "  <tbody>\n",
       "    <tr>\n",
       "      <th>0</th>\n",
       "      <td>27-05-1994</td>\n",
       "      <td>PEREMPUAN</td>\n",
       "      <td>0</td>\n",
       "      <td>1</td>\n",
       "      <td>0</td>\n",
       "      <td>0</td>\n",
       "      <td>0</td>\n",
       "      <td>0</td>\n",
       "      <td>0</td>\n",
       "      <td>110</td>\n",
       "      <td>70</td>\n",
       "      <td>0</td>\n",
       "    </tr>\n",
       "    <tr>\n",
       "      <th>1</th>\n",
       "      <td>30-04-1993</td>\n",
       "      <td>PEREMPUAN</td>\n",
       "      <td>0</td>\n",
       "      <td>0</td>\n",
       "      <td>0</td>\n",
       "      <td>0</td>\n",
       "      <td>0</td>\n",
       "      <td>0</td>\n",
       "      <td>0</td>\n",
       "      <td>120</td>\n",
       "      <td>80</td>\n",
       "      <td>0</td>\n",
       "    </tr>\n",
       "    <tr>\n",
       "      <th>2</th>\n",
       "      <td>27-03-1999</td>\n",
       "      <td>PEREMPUAN</td>\n",
       "      <td>0</td>\n",
       "      <td>1</td>\n",
       "      <td>0</td>\n",
       "      <td>0</td>\n",
       "      <td>1</td>\n",
       "      <td>1</td>\n",
       "      <td>0</td>\n",
       "      <td>115</td>\n",
       "      <td>78</td>\n",
       "      <td>0</td>\n",
       "    </tr>\n",
       "    <tr>\n",
       "      <th>3</th>\n",
       "      <td>22-06-1983</td>\n",
       "      <td>PEREMPUAN</td>\n",
       "      <td>0</td>\n",
       "      <td>0</td>\n",
       "      <td>0</td>\n",
       "      <td>0</td>\n",
       "      <td>0</td>\n",
       "      <td>0</td>\n",
       "      <td>0</td>\n",
       "      <td>112</td>\n",
       "      <td>78</td>\n",
       "      <td>0</td>\n",
       "    </tr>\n",
       "    <tr>\n",
       "      <th>4</th>\n",
       "      <td>07-04-1998</td>\n",
       "      <td>PEREMPUAN</td>\n",
       "      <td>0</td>\n",
       "      <td>0</td>\n",
       "      <td>0</td>\n",
       "      <td>0</td>\n",
       "      <td>0</td>\n",
       "      <td>0</td>\n",
       "      <td>0</td>\n",
       "      <td>98</td>\n",
       "      <td>69</td>\n",
       "      <td>0</td>\n",
       "    </tr>\n",
       "    <tr>\n",
       "      <th>...</th>\n",
       "      <td>...</td>\n",
       "      <td>...</td>\n",
       "      <td>...</td>\n",
       "      <td>...</td>\n",
       "      <td>...</td>\n",
       "      <td>...</td>\n",
       "      <td>...</td>\n",
       "      <td>...</td>\n",
       "      <td>...</td>\n",
       "      <td>...</td>\n",
       "      <td>...</td>\n",
       "      <td>...</td>\n",
       "    </tr>\n",
       "    <tr>\n",
       "      <th>1368</th>\n",
       "      <td>09-04-1938</td>\n",
       "      <td>PEREMPUAN</td>\n",
       "      <td>0</td>\n",
       "      <td>0</td>\n",
       "      <td>1</td>\n",
       "      <td>0</td>\n",
       "      <td>0</td>\n",
       "      <td>0</td>\n",
       "      <td>0</td>\n",
       "      <td>170</td>\n",
       "      <td>70</td>\n",
       "      <td>0</td>\n",
       "    </tr>\n",
       "    <tr>\n",
       "      <th>1369</th>\n",
       "      <td>20-07-1961</td>\n",
       "      <td>PEREMPUAN</td>\n",
       "      <td>0</td>\n",
       "      <td>0</td>\n",
       "      <td>0</td>\n",
       "      <td>0</td>\n",
       "      <td>0</td>\n",
       "      <td>1</td>\n",
       "      <td>0</td>\n",
       "      <td>116</td>\n",
       "      <td>72</td>\n",
       "      <td>0</td>\n",
       "    </tr>\n",
       "    <tr>\n",
       "      <th>1370</th>\n",
       "      <td>20-04-1957</td>\n",
       "      <td>PEREMPUAN</td>\n",
       "      <td>0</td>\n",
       "      <td>0</td>\n",
       "      <td>0</td>\n",
       "      <td>0</td>\n",
       "      <td>0</td>\n",
       "      <td>1</td>\n",
       "      <td>0</td>\n",
       "      <td>155</td>\n",
       "      <td>52</td>\n",
       "      <td>0</td>\n",
       "    </tr>\n",
       "    <tr>\n",
       "      <th>1371</th>\n",
       "      <td>01-01-1980</td>\n",
       "      <td>PEREMPUAN</td>\n",
       "      <td>0</td>\n",
       "      <td>0</td>\n",
       "      <td>0</td>\n",
       "      <td>0</td>\n",
       "      <td>0</td>\n",
       "      <td>0</td>\n",
       "      <td>0</td>\n",
       "      <td>140</td>\n",
       "      <td>85</td>\n",
       "      <td>1</td>\n",
       "    </tr>\n",
       "    <tr>\n",
       "      <th>1372</th>\n",
       "      <td>16-10-1946</td>\n",
       "      <td>PEREMPUAN</td>\n",
       "      <td>0</td>\n",
       "      <td>0</td>\n",
       "      <td>0</td>\n",
       "      <td>1</td>\n",
       "      <td>1</td>\n",
       "      <td>1</td>\n",
       "      <td>0</td>\n",
       "      <td>170</td>\n",
       "      <td>80</td>\n",
       "      <td>0</td>\n",
       "    </tr>\n",
       "  </tbody>\n",
       "</table>\n",
       "<p>1373 rows × 12 columns</p>\n",
       "</div>"
      ],
      "text/plain": [
       "     TANGGAL LAHIR * JENIS KELAMIN *  MEROKOK  KURANG AKTIFITAS FISIK  \\\n",
       "0         27-05-1994       PEREMPUAN        0                       1   \n",
       "1         30-04-1993       PEREMPUAN        0                       0   \n",
       "2         27-03-1999       PEREMPUAN        0                       1   \n",
       "3         22-06-1983       PEREMPUAN        0                       0   \n",
       "4         07-04-1998       PEREMPUAN        0                       0   \n",
       "...              ...             ...      ...                     ...   \n",
       "1368      09-04-1938       PEREMPUAN        0                       0   \n",
       "1369      20-07-1961       PEREMPUAN        0                       0   \n",
       "1370      20-04-1957       PEREMPUAN        0                       0   \n",
       "1371      01-01-1980       PEREMPUAN        0                       0   \n",
       "1372      16-10-1946       PEREMPUAN        0                       0   \n",
       "\n",
       "      GULA BERLEBIHAN  GARAM BERLEBIHAN  LEMAK BERLEBIHAN  \\\n",
       "0                   0                 0                 0   \n",
       "1                   0                 0                 0   \n",
       "2                   0                 0                 1   \n",
       "3                   0                 0                 0   \n",
       "4                   0                 0                 0   \n",
       "...               ...               ...               ...   \n",
       "1368                1                 0                 0   \n",
       "1369                0                 0                 0   \n",
       "1370                0                 0                 0   \n",
       "1371                0                 0                 0   \n",
       "1372                0                 1                 1   \n",
       "\n",
       "      KURANG MAKAN BUAH DAN SAYUR  KONSUMSI ALKOHOL  SISTOL  DIASTOL  \\\n",
       "0                               0                 0     110       70   \n",
       "1                               0                 0     120       80   \n",
       "2                               1                 0     115       78   \n",
       "3                               0                 0     112       78   \n",
       "4                               0                 0      98       69   \n",
       "...                           ...               ...     ...      ...   \n",
       "1368                            0                 0     170       70   \n",
       "1369                            1                 0     116       72   \n",
       "1370                            1                 0     155       52   \n",
       "1371                            0                 0     140       85   \n",
       "1372                            1                 0     170       80   \n",
       "\n",
       "      Diagnosis  \n",
       "0             0  \n",
       "1             0  \n",
       "2             0  \n",
       "3             0  \n",
       "4             0  \n",
       "...         ...  \n",
       "1368          0  \n",
       "1369          0  \n",
       "1370          0  \n",
       "1371          1  \n",
       "1372          0  \n",
       "\n",
       "[1373 rows x 12 columns]"
      ]
     },
     "execution_count": 11,
     "metadata": {},
     "output_type": "execute_result"
    }
   ],
   "source": [
    "dataset"
   ]
  },
  {
   "cell_type": "markdown",
   "id": "18bc37f0",
   "metadata": {},
   "source": [
    " Data Cleaning"
   ]
  },
  {
   "cell_type": "code",
   "execution_count": 12,
   "id": "11ad7fe4",
   "metadata": {
    "scrolled": false
   },
   "outputs": [
    {
     "data": {
      "text/html": [
       "<div>\n",
       "<style scoped>\n",
       "    .dataframe tbody tr th:only-of-type {\n",
       "        vertical-align: middle;\n",
       "    }\n",
       "\n",
       "    .dataframe tbody tr th {\n",
       "        vertical-align: top;\n",
       "    }\n",
       "\n",
       "    .dataframe thead th {\n",
       "        text-align: right;\n",
       "    }\n",
       "</style>\n",
       "<table border=\"1\" class=\"dataframe\">\n",
       "  <thead>\n",
       "    <tr style=\"text-align: right;\">\n",
       "      <th></th>\n",
       "      <th>TANGGAL LAHIR *</th>\n",
       "      <th>MEROKOK</th>\n",
       "      <th>KURANG AKTIFITAS FISIK</th>\n",
       "      <th>GULA BERLEBIHAN</th>\n",
       "      <th>GARAM BERLEBIHAN</th>\n",
       "      <th>LEMAK BERLEBIHAN</th>\n",
       "      <th>KURANG MAKAN BUAH DAN SAYUR</th>\n",
       "      <th>KONSUMSI ALKOHOL</th>\n",
       "      <th>SISTOL</th>\n",
       "      <th>DIASTOL</th>\n",
       "      <th>Diagnosis</th>\n",
       "    </tr>\n",
       "  </thead>\n",
       "  <tbody>\n",
       "    <tr>\n",
       "      <th>0</th>\n",
       "      <td>27-05-1994</td>\n",
       "      <td>0</td>\n",
       "      <td>1</td>\n",
       "      <td>0</td>\n",
       "      <td>0</td>\n",
       "      <td>0</td>\n",
       "      <td>0</td>\n",
       "      <td>0</td>\n",
       "      <td>110</td>\n",
       "      <td>70</td>\n",
       "      <td>0</td>\n",
       "    </tr>\n",
       "    <tr>\n",
       "      <th>1</th>\n",
       "      <td>30-04-1993</td>\n",
       "      <td>0</td>\n",
       "      <td>0</td>\n",
       "      <td>0</td>\n",
       "      <td>0</td>\n",
       "      <td>0</td>\n",
       "      <td>0</td>\n",
       "      <td>0</td>\n",
       "      <td>120</td>\n",
       "      <td>80</td>\n",
       "      <td>0</td>\n",
       "    </tr>\n",
       "    <tr>\n",
       "      <th>2</th>\n",
       "      <td>27-03-1999</td>\n",
       "      <td>0</td>\n",
       "      <td>1</td>\n",
       "      <td>0</td>\n",
       "      <td>0</td>\n",
       "      <td>1</td>\n",
       "      <td>1</td>\n",
       "      <td>0</td>\n",
       "      <td>115</td>\n",
       "      <td>78</td>\n",
       "      <td>0</td>\n",
       "    </tr>\n",
       "    <tr>\n",
       "      <th>3</th>\n",
       "      <td>22-06-1983</td>\n",
       "      <td>0</td>\n",
       "      <td>0</td>\n",
       "      <td>0</td>\n",
       "      <td>0</td>\n",
       "      <td>0</td>\n",
       "      <td>0</td>\n",
       "      <td>0</td>\n",
       "      <td>112</td>\n",
       "      <td>78</td>\n",
       "      <td>0</td>\n",
       "    </tr>\n",
       "    <tr>\n",
       "      <th>4</th>\n",
       "      <td>07-04-1998</td>\n",
       "      <td>0</td>\n",
       "      <td>0</td>\n",
       "      <td>0</td>\n",
       "      <td>0</td>\n",
       "      <td>0</td>\n",
       "      <td>0</td>\n",
       "      <td>0</td>\n",
       "      <td>98</td>\n",
       "      <td>69</td>\n",
       "      <td>0</td>\n",
       "    </tr>\n",
       "    <tr>\n",
       "      <th>...</th>\n",
       "      <td>...</td>\n",
       "      <td>...</td>\n",
       "      <td>...</td>\n",
       "      <td>...</td>\n",
       "      <td>...</td>\n",
       "      <td>...</td>\n",
       "      <td>...</td>\n",
       "      <td>...</td>\n",
       "      <td>...</td>\n",
       "      <td>...</td>\n",
       "      <td>...</td>\n",
       "    </tr>\n",
       "    <tr>\n",
       "      <th>1368</th>\n",
       "      <td>09-04-1938</td>\n",
       "      <td>0</td>\n",
       "      <td>0</td>\n",
       "      <td>1</td>\n",
       "      <td>0</td>\n",
       "      <td>0</td>\n",
       "      <td>0</td>\n",
       "      <td>0</td>\n",
       "      <td>170</td>\n",
       "      <td>70</td>\n",
       "      <td>0</td>\n",
       "    </tr>\n",
       "    <tr>\n",
       "      <th>1369</th>\n",
       "      <td>20-07-1961</td>\n",
       "      <td>0</td>\n",
       "      <td>0</td>\n",
       "      <td>0</td>\n",
       "      <td>0</td>\n",
       "      <td>0</td>\n",
       "      <td>1</td>\n",
       "      <td>0</td>\n",
       "      <td>116</td>\n",
       "      <td>72</td>\n",
       "      <td>0</td>\n",
       "    </tr>\n",
       "    <tr>\n",
       "      <th>1370</th>\n",
       "      <td>20-04-1957</td>\n",
       "      <td>0</td>\n",
       "      <td>0</td>\n",
       "      <td>0</td>\n",
       "      <td>0</td>\n",
       "      <td>0</td>\n",
       "      <td>1</td>\n",
       "      <td>0</td>\n",
       "      <td>155</td>\n",
       "      <td>52</td>\n",
       "      <td>0</td>\n",
       "    </tr>\n",
       "    <tr>\n",
       "      <th>1371</th>\n",
       "      <td>01-01-1980</td>\n",
       "      <td>0</td>\n",
       "      <td>0</td>\n",
       "      <td>0</td>\n",
       "      <td>0</td>\n",
       "      <td>0</td>\n",
       "      <td>0</td>\n",
       "      <td>0</td>\n",
       "      <td>140</td>\n",
       "      <td>85</td>\n",
       "      <td>1</td>\n",
       "    </tr>\n",
       "    <tr>\n",
       "      <th>1372</th>\n",
       "      <td>16-10-1946</td>\n",
       "      <td>0</td>\n",
       "      <td>0</td>\n",
       "      <td>0</td>\n",
       "      <td>1</td>\n",
       "      <td>1</td>\n",
       "      <td>1</td>\n",
       "      <td>0</td>\n",
       "      <td>170</td>\n",
       "      <td>80</td>\n",
       "      <td>0</td>\n",
       "    </tr>\n",
       "  </tbody>\n",
       "</table>\n",
       "<p>1373 rows × 11 columns</p>\n",
       "</div>"
      ],
      "text/plain": [
       "     TANGGAL LAHIR *  MEROKOK  KURANG AKTIFITAS FISIK  GULA BERLEBIHAN  \\\n",
       "0         27-05-1994        0                       1                0   \n",
       "1         30-04-1993        0                       0                0   \n",
       "2         27-03-1999        0                       1                0   \n",
       "3         22-06-1983        0                       0                0   \n",
       "4         07-04-1998        0                       0                0   \n",
       "...              ...      ...                     ...              ...   \n",
       "1368      09-04-1938        0                       0                1   \n",
       "1369      20-07-1961        0                       0                0   \n",
       "1370      20-04-1957        0                       0                0   \n",
       "1371      01-01-1980        0                       0                0   \n",
       "1372      16-10-1946        0                       0                0   \n",
       "\n",
       "      GARAM BERLEBIHAN  LEMAK BERLEBIHAN  KURANG MAKAN BUAH DAN SAYUR  \\\n",
       "0                    0                 0                            0   \n",
       "1                    0                 0                            0   \n",
       "2                    0                 1                            1   \n",
       "3                    0                 0                            0   \n",
       "4                    0                 0                            0   \n",
       "...                ...               ...                          ...   \n",
       "1368                 0                 0                            0   \n",
       "1369                 0                 0                            1   \n",
       "1370                 0                 0                            1   \n",
       "1371                 0                 0                            0   \n",
       "1372                 1                 1                            1   \n",
       "\n",
       "      KONSUMSI ALKOHOL  SISTOL  DIASTOL  Diagnosis  \n",
       "0                    0     110       70          0  \n",
       "1                    0     120       80          0  \n",
       "2                    0     115       78          0  \n",
       "3                    0     112       78          0  \n",
       "4                    0      98       69          0  \n",
       "...                ...     ...      ...        ...  \n",
       "1368                 0     170       70          0  \n",
       "1369                 0     116       72          0  \n",
       "1370                 0     155       52          0  \n",
       "1371                 0     140       85          1  \n",
       "1372                 0     170       80          0  \n",
       "\n",
       "[1373 rows x 11 columns]"
      ]
     },
     "execution_count": 12,
     "metadata": {},
     "output_type": "execute_result"
    }
   ],
   "source": [
    "dataset = dataset.drop([\"JENIS KELAMIN *\"], axis=1)\n",
    "dataset"
   ]
  },
  {
   "cell_type": "code",
   "execution_count": 13,
   "id": "bd4ab0f8",
   "metadata": {},
   "outputs": [
    {
     "data": {
      "text/plain": [
       "42"
      ]
     },
     "execution_count": 13,
     "metadata": {},
     "output_type": "execute_result"
    }
   ],
   "source": [
    "dataset.duplicated().sum()"
   ]
  },
  {
   "cell_type": "markdown",
   "id": "5d843c8d",
   "metadata": {},
   "source": [
    "Data Transformation (From Birth Date to Age)"
   ]
  },
  {
   "cell_type": "code",
   "execution_count": 14,
   "id": "3b044be9",
   "metadata": {},
   "outputs": [],
   "source": [
    "import datetime\n",
    "from datetime import datetime"
   ]
  },
  {
   "cell_type": "code",
   "execution_count": 15,
   "id": "29b9e735",
   "metadata": {},
   "outputs": [],
   "source": [
    "dataset[\"TANGGAL LAHIR *\"] = pd.to_datetime(dataset[\"TANGGAL LAHIR *\"], format=\"%d-%m-%Y\",errors=\"coerce\")"
   ]
  },
  {
   "cell_type": "code",
   "execution_count": 17,
   "id": "d015c97f",
   "metadata": {},
   "outputs": [],
   "source": [
    "today_date = datetime.today().replace(day=1, month=1).date()  # Konversi ke datetime.date\n",
    "dataset[\"Usia\"] = (today_date - dataset[\"TANGGAL LAHIR *\"].dt.date).apply(lambda x: x.days) // 365.25"
   ]
  },
  {
   "cell_type": "code",
   "execution_count": 18,
   "id": "ff18ad2f",
   "metadata": {},
   "outputs": [
    {
     "name": "stdout",
     "output_type": "stream",
     "text": [
      "2\n"
     ]
    }
   ],
   "source": [
    "print(dataset[\"Usia\"].isna().sum())  # Menampilkan jumlah nilai NaN"
   ]
  },
  {
   "cell_type": "code",
   "execution_count": 19,
   "id": "f5fb197d",
   "metadata": {},
   "outputs": [
    {
     "name": "stdout",
     "output_type": "stream",
     "text": [
      "     TANGGAL LAHIR *  MEROKOK  KURANG AKTIFITAS FISIK  GULA BERLEBIHAN  \\\n",
      "837              NaT        0                       1                1   \n",
      "1057             NaT        0                       1                1   \n",
      "\n",
      "      GARAM BERLEBIHAN  LEMAK BERLEBIHAN  KURANG MAKAN BUAH DAN SAYUR  \\\n",
      "837                  0                 0                            1   \n",
      "1057                 1                 1                            1   \n",
      "\n",
      "      KONSUMSI ALKOHOL  SISTOL  DIASTOL  Diagnosis  Usia  \n",
      "837                  0     153       91          1   NaN  \n",
      "1057                 0     200      110          1   NaN  \n"
     ]
    }
   ],
   "source": [
    "print(dataset.loc[dataset[\"TANGGAL LAHIR *\"].isna()])"
   ]
  },
  {
   "cell_type": "code",
   "execution_count": 20,
   "id": "29459284",
   "metadata": {},
   "outputs": [],
   "source": [
    "dataset.dropna(subset=['TANGGAL LAHIR *'], inplace=True)"
   ]
  },
  {
   "cell_type": "code",
   "execution_count": 21,
   "id": "6070ec75",
   "metadata": {},
   "outputs": [],
   "source": [
    "dataset[\"Usia\"] = dataset[\"Usia\"].astype(\"int\")"
   ]
  },
  {
   "cell_type": "code",
   "execution_count": 22,
   "id": "c09e8b1d",
   "metadata": {
    "scrolled": true
   },
   "outputs": [
    {
     "data": {
      "text/plain": [
       "0       29\n",
       "1       30\n",
       "2       24\n",
       "3       40\n",
       "4       25\n",
       "        ..\n",
       "1368    85\n",
       "1369    62\n",
       "1370    66\n",
       "1371    44\n",
       "1372    77\n",
       "Name: Usia, Length: 1371, dtype: int32"
      ]
     },
     "execution_count": 22,
     "metadata": {},
     "output_type": "execute_result"
    }
   ],
   "source": [
    "dataset[\"Usia\"]"
   ]
  },
  {
   "cell_type": "code",
   "execution_count": 23,
   "id": "c67cb58d",
   "metadata": {},
   "outputs": [],
   "source": [
    "dataset = dataset.drop([\"TANGGAL LAHIR *\"], axis=1)"
   ]
  },
  {
   "cell_type": "code",
   "execution_count": 24,
   "id": "92c207ab",
   "metadata": {
    "scrolled": true
   },
   "outputs": [
    {
     "data": {
      "text/html": [
       "<div>\n",
       "<style scoped>\n",
       "    .dataframe tbody tr th:only-of-type {\n",
       "        vertical-align: middle;\n",
       "    }\n",
       "\n",
       "    .dataframe tbody tr th {\n",
       "        vertical-align: top;\n",
       "    }\n",
       "\n",
       "    .dataframe thead th {\n",
       "        text-align: right;\n",
       "    }\n",
       "</style>\n",
       "<table border=\"1\" class=\"dataframe\">\n",
       "  <thead>\n",
       "    <tr style=\"text-align: right;\">\n",
       "      <th></th>\n",
       "      <th>MEROKOK</th>\n",
       "      <th>KURANG AKTIFITAS FISIK</th>\n",
       "      <th>GULA BERLEBIHAN</th>\n",
       "      <th>GARAM BERLEBIHAN</th>\n",
       "      <th>LEMAK BERLEBIHAN</th>\n",
       "      <th>KURANG MAKAN BUAH DAN SAYUR</th>\n",
       "      <th>KONSUMSI ALKOHOL</th>\n",
       "      <th>SISTOL</th>\n",
       "      <th>DIASTOL</th>\n",
       "      <th>Diagnosis</th>\n",
       "      <th>Usia</th>\n",
       "    </tr>\n",
       "  </thead>\n",
       "  <tbody>\n",
       "    <tr>\n",
       "      <th>0</th>\n",
       "      <td>0</td>\n",
       "      <td>1</td>\n",
       "      <td>0</td>\n",
       "      <td>0</td>\n",
       "      <td>0</td>\n",
       "      <td>0</td>\n",
       "      <td>0</td>\n",
       "      <td>110</td>\n",
       "      <td>70</td>\n",
       "      <td>0</td>\n",
       "      <td>29</td>\n",
       "    </tr>\n",
       "    <tr>\n",
       "      <th>1</th>\n",
       "      <td>0</td>\n",
       "      <td>0</td>\n",
       "      <td>0</td>\n",
       "      <td>0</td>\n",
       "      <td>0</td>\n",
       "      <td>0</td>\n",
       "      <td>0</td>\n",
       "      <td>120</td>\n",
       "      <td>80</td>\n",
       "      <td>0</td>\n",
       "      <td>30</td>\n",
       "    </tr>\n",
       "    <tr>\n",
       "      <th>2</th>\n",
       "      <td>0</td>\n",
       "      <td>1</td>\n",
       "      <td>0</td>\n",
       "      <td>0</td>\n",
       "      <td>1</td>\n",
       "      <td>1</td>\n",
       "      <td>0</td>\n",
       "      <td>115</td>\n",
       "      <td>78</td>\n",
       "      <td>0</td>\n",
       "      <td>24</td>\n",
       "    </tr>\n",
       "    <tr>\n",
       "      <th>3</th>\n",
       "      <td>0</td>\n",
       "      <td>0</td>\n",
       "      <td>0</td>\n",
       "      <td>0</td>\n",
       "      <td>0</td>\n",
       "      <td>0</td>\n",
       "      <td>0</td>\n",
       "      <td>112</td>\n",
       "      <td>78</td>\n",
       "      <td>0</td>\n",
       "      <td>40</td>\n",
       "    </tr>\n",
       "    <tr>\n",
       "      <th>4</th>\n",
       "      <td>0</td>\n",
       "      <td>0</td>\n",
       "      <td>0</td>\n",
       "      <td>0</td>\n",
       "      <td>0</td>\n",
       "      <td>0</td>\n",
       "      <td>0</td>\n",
       "      <td>98</td>\n",
       "      <td>69</td>\n",
       "      <td>0</td>\n",
       "      <td>25</td>\n",
       "    </tr>\n",
       "    <tr>\n",
       "      <th>...</th>\n",
       "      <td>...</td>\n",
       "      <td>...</td>\n",
       "      <td>...</td>\n",
       "      <td>...</td>\n",
       "      <td>...</td>\n",
       "      <td>...</td>\n",
       "      <td>...</td>\n",
       "      <td>...</td>\n",
       "      <td>...</td>\n",
       "      <td>...</td>\n",
       "      <td>...</td>\n",
       "    </tr>\n",
       "    <tr>\n",
       "      <th>1368</th>\n",
       "      <td>0</td>\n",
       "      <td>0</td>\n",
       "      <td>1</td>\n",
       "      <td>0</td>\n",
       "      <td>0</td>\n",
       "      <td>0</td>\n",
       "      <td>0</td>\n",
       "      <td>170</td>\n",
       "      <td>70</td>\n",
       "      <td>0</td>\n",
       "      <td>85</td>\n",
       "    </tr>\n",
       "    <tr>\n",
       "      <th>1369</th>\n",
       "      <td>0</td>\n",
       "      <td>0</td>\n",
       "      <td>0</td>\n",
       "      <td>0</td>\n",
       "      <td>0</td>\n",
       "      <td>1</td>\n",
       "      <td>0</td>\n",
       "      <td>116</td>\n",
       "      <td>72</td>\n",
       "      <td>0</td>\n",
       "      <td>62</td>\n",
       "    </tr>\n",
       "    <tr>\n",
       "      <th>1370</th>\n",
       "      <td>0</td>\n",
       "      <td>0</td>\n",
       "      <td>0</td>\n",
       "      <td>0</td>\n",
       "      <td>0</td>\n",
       "      <td>1</td>\n",
       "      <td>0</td>\n",
       "      <td>155</td>\n",
       "      <td>52</td>\n",
       "      <td>0</td>\n",
       "      <td>66</td>\n",
       "    </tr>\n",
       "    <tr>\n",
       "      <th>1371</th>\n",
       "      <td>0</td>\n",
       "      <td>0</td>\n",
       "      <td>0</td>\n",
       "      <td>0</td>\n",
       "      <td>0</td>\n",
       "      <td>0</td>\n",
       "      <td>0</td>\n",
       "      <td>140</td>\n",
       "      <td>85</td>\n",
       "      <td>1</td>\n",
       "      <td>44</td>\n",
       "    </tr>\n",
       "    <tr>\n",
       "      <th>1372</th>\n",
       "      <td>0</td>\n",
       "      <td>0</td>\n",
       "      <td>0</td>\n",
       "      <td>1</td>\n",
       "      <td>1</td>\n",
       "      <td>1</td>\n",
       "      <td>0</td>\n",
       "      <td>170</td>\n",
       "      <td>80</td>\n",
       "      <td>0</td>\n",
       "      <td>77</td>\n",
       "    </tr>\n",
       "  </tbody>\n",
       "</table>\n",
       "<p>1371 rows × 11 columns</p>\n",
       "</div>"
      ],
      "text/plain": [
       "      MEROKOK  KURANG AKTIFITAS FISIK  GULA BERLEBIHAN  GARAM BERLEBIHAN  \\\n",
       "0           0                       1                0                 0   \n",
       "1           0                       0                0                 0   \n",
       "2           0                       1                0                 0   \n",
       "3           0                       0                0                 0   \n",
       "4           0                       0                0                 0   \n",
       "...       ...                     ...              ...               ...   \n",
       "1368        0                       0                1                 0   \n",
       "1369        0                       0                0                 0   \n",
       "1370        0                       0                0                 0   \n",
       "1371        0                       0                0                 0   \n",
       "1372        0                       0                0                 1   \n",
       "\n",
       "      LEMAK BERLEBIHAN  KURANG MAKAN BUAH DAN SAYUR  KONSUMSI ALKOHOL  SISTOL  \\\n",
       "0                    0                            0                 0     110   \n",
       "1                    0                            0                 0     120   \n",
       "2                    1                            1                 0     115   \n",
       "3                    0                            0                 0     112   \n",
       "4                    0                            0                 0      98   \n",
       "...                ...                          ...               ...     ...   \n",
       "1368                 0                            0                 0     170   \n",
       "1369                 0                            1                 0     116   \n",
       "1370                 0                            1                 0     155   \n",
       "1371                 0                            0                 0     140   \n",
       "1372                 1                            1                 0     170   \n",
       "\n",
       "      DIASTOL  Diagnosis  Usia  \n",
       "0          70          0    29  \n",
       "1          80          0    30  \n",
       "2          78          0    24  \n",
       "3          78          0    40  \n",
       "4          69          0    25  \n",
       "...       ...        ...   ...  \n",
       "1368       70          0    85  \n",
       "1369       72          0    62  \n",
       "1370       52          0    66  \n",
       "1371       85          1    44  \n",
       "1372       80          0    77  \n",
       "\n",
       "[1371 rows x 11 columns]"
      ]
     },
     "execution_count": 24,
     "metadata": {},
     "output_type": "execute_result"
    }
   ],
   "source": [
    "dataset"
   ]
  },
  {
   "cell_type": "code",
   "execution_count": 25,
   "id": "bbcb790b",
   "metadata": {},
   "outputs": [
    {
     "data": {
      "text/html": [
       "<div>\n",
       "<style scoped>\n",
       "    .dataframe tbody tr th:only-of-type {\n",
       "        vertical-align: middle;\n",
       "    }\n",
       "\n",
       "    .dataframe tbody tr th {\n",
       "        vertical-align: top;\n",
       "    }\n",
       "\n",
       "    .dataframe thead th {\n",
       "        text-align: right;\n",
       "    }\n",
       "</style>\n",
       "<table border=\"1\" class=\"dataframe\">\n",
       "  <thead>\n",
       "    <tr style=\"text-align: right;\">\n",
       "      <th></th>\n",
       "      <th>MEROKOK</th>\n",
       "      <th>KURANG AKTIFITAS FISIK</th>\n",
       "      <th>GULA BERLEBIHAN</th>\n",
       "      <th>GARAM BERLEBIHAN</th>\n",
       "      <th>LEMAK BERLEBIHAN</th>\n",
       "      <th>KURANG MAKAN BUAH DAN SAYUR</th>\n",
       "      <th>KONSUMSI ALKOHOL</th>\n",
       "      <th>SISTOL</th>\n",
       "      <th>DIASTOL</th>\n",
       "      <th>Diagnosis</th>\n",
       "      <th>Usia</th>\n",
       "    </tr>\n",
       "  </thead>\n",
       "  <tbody>\n",
       "    <tr>\n",
       "      <th>count</th>\n",
       "      <td>1371.000000</td>\n",
       "      <td>1371.000000</td>\n",
       "      <td>1371.000000</td>\n",
       "      <td>1371.000000</td>\n",
       "      <td>1371.000000</td>\n",
       "      <td>1371.000000</td>\n",
       "      <td>1371.000000</td>\n",
       "      <td>1371.000000</td>\n",
       "      <td>1371.000000</td>\n",
       "      <td>1371.000000</td>\n",
       "      <td>1371.000000</td>\n",
       "    </tr>\n",
       "    <tr>\n",
       "      <th>mean</th>\n",
       "      <td>0.019694</td>\n",
       "      <td>0.259664</td>\n",
       "      <td>0.147338</td>\n",
       "      <td>0.171408</td>\n",
       "      <td>0.214442</td>\n",
       "      <td>0.293946</td>\n",
       "      <td>0.003647</td>\n",
       "      <td>132.300511</td>\n",
       "      <td>80.202042</td>\n",
       "      <td>0.273523</td>\n",
       "      <td>47.401167</td>\n",
       "    </tr>\n",
       "    <tr>\n",
       "      <th>std</th>\n",
       "      <td>0.138996</td>\n",
       "      <td>0.438610</td>\n",
       "      <td>0.354572</td>\n",
       "      <td>0.377002</td>\n",
       "      <td>0.410584</td>\n",
       "      <td>0.455734</td>\n",
       "      <td>0.060302</td>\n",
       "      <td>22.333736</td>\n",
       "      <td>11.557316</td>\n",
       "      <td>0.445930</td>\n",
       "      <td>15.554833</td>\n",
       "    </tr>\n",
       "    <tr>\n",
       "      <th>min</th>\n",
       "      <td>0.000000</td>\n",
       "      <td>0.000000</td>\n",
       "      <td>0.000000</td>\n",
       "      <td>0.000000</td>\n",
       "      <td>0.000000</td>\n",
       "      <td>0.000000</td>\n",
       "      <td>0.000000</td>\n",
       "      <td>81.000000</td>\n",
       "      <td>11.000000</td>\n",
       "      <td>0.000000</td>\n",
       "      <td>3.000000</td>\n",
       "    </tr>\n",
       "    <tr>\n",
       "      <th>25%</th>\n",
       "      <td>0.000000</td>\n",
       "      <td>0.000000</td>\n",
       "      <td>0.000000</td>\n",
       "      <td>0.000000</td>\n",
       "      <td>0.000000</td>\n",
       "      <td>0.000000</td>\n",
       "      <td>0.000000</td>\n",
       "      <td>117.000000</td>\n",
       "      <td>72.000000</td>\n",
       "      <td>0.000000</td>\n",
       "      <td>35.000000</td>\n",
       "    </tr>\n",
       "    <tr>\n",
       "      <th>50%</th>\n",
       "      <td>0.000000</td>\n",
       "      <td>0.000000</td>\n",
       "      <td>0.000000</td>\n",
       "      <td>0.000000</td>\n",
       "      <td>0.000000</td>\n",
       "      <td>0.000000</td>\n",
       "      <td>0.000000</td>\n",
       "      <td>130.000000</td>\n",
       "      <td>80.000000</td>\n",
       "      <td>0.000000</td>\n",
       "      <td>48.000000</td>\n",
       "    </tr>\n",
       "    <tr>\n",
       "      <th>75%</th>\n",
       "      <td>0.000000</td>\n",
       "      <td>1.000000</td>\n",
       "      <td>0.000000</td>\n",
       "      <td>0.000000</td>\n",
       "      <td>0.000000</td>\n",
       "      <td>1.000000</td>\n",
       "      <td>0.000000</td>\n",
       "      <td>147.000000</td>\n",
       "      <td>88.000000</td>\n",
       "      <td>1.000000</td>\n",
       "      <td>59.000000</td>\n",
       "    </tr>\n",
       "    <tr>\n",
       "      <th>max</th>\n",
       "      <td>1.000000</td>\n",
       "      <td>1.000000</td>\n",
       "      <td>1.000000</td>\n",
       "      <td>1.000000</td>\n",
       "      <td>1.000000</td>\n",
       "      <td>1.000000</td>\n",
       "      <td>1.000000</td>\n",
       "      <td>240.000000</td>\n",
       "      <td>155.000000</td>\n",
       "      <td>1.000000</td>\n",
       "      <td>102.000000</td>\n",
       "    </tr>\n",
       "  </tbody>\n",
       "</table>\n",
       "</div>"
      ],
      "text/plain": [
       "           MEROKOK  KURANG AKTIFITAS FISIK  GULA BERLEBIHAN  GARAM BERLEBIHAN  \\\n",
       "count  1371.000000             1371.000000      1371.000000       1371.000000   \n",
       "mean      0.019694                0.259664         0.147338          0.171408   \n",
       "std       0.138996                0.438610         0.354572          0.377002   \n",
       "min       0.000000                0.000000         0.000000          0.000000   \n",
       "25%       0.000000                0.000000         0.000000          0.000000   \n",
       "50%       0.000000                0.000000         0.000000          0.000000   \n",
       "75%       0.000000                1.000000         0.000000          0.000000   \n",
       "max       1.000000                1.000000         1.000000          1.000000   \n",
       "\n",
       "       LEMAK BERLEBIHAN  KURANG MAKAN BUAH DAN SAYUR  KONSUMSI ALKOHOL  \\\n",
       "count       1371.000000                  1371.000000       1371.000000   \n",
       "mean           0.214442                     0.293946          0.003647   \n",
       "std            0.410584                     0.455734          0.060302   \n",
       "min            0.000000                     0.000000          0.000000   \n",
       "25%            0.000000                     0.000000          0.000000   \n",
       "50%            0.000000                     0.000000          0.000000   \n",
       "75%            0.000000                     1.000000          0.000000   \n",
       "max            1.000000                     1.000000          1.000000   \n",
       "\n",
       "            SISTOL      DIASTOL    Diagnosis         Usia  \n",
       "count  1371.000000  1371.000000  1371.000000  1371.000000  \n",
       "mean    132.300511    80.202042     0.273523    47.401167  \n",
       "std      22.333736    11.557316     0.445930    15.554833  \n",
       "min      81.000000    11.000000     0.000000     3.000000  \n",
       "25%     117.000000    72.000000     0.000000    35.000000  \n",
       "50%     130.000000    80.000000     0.000000    48.000000  \n",
       "75%     147.000000    88.000000     1.000000    59.000000  \n",
       "max     240.000000   155.000000     1.000000   102.000000  "
      ]
     },
     "execution_count": 25,
     "metadata": {},
     "output_type": "execute_result"
    }
   ],
   "source": [
    "dataset.describe()"
   ]
  },
  {
   "cell_type": "markdown",
   "id": "68a5bbfc",
   "metadata": {},
   "source": [
    "Korelasi antar Variabel"
   ]
  },
  {
   "cell_type": "code",
   "execution_count": 89,
   "id": "f208bda7",
   "metadata": {
    "scrolled": true
   },
   "outputs": [],
   "source": [
    "x = dataset.corr()\n",
    "x.to_csv('correlaction_variabel.csv', index=False)"
   ]
  },
  {
   "cell_type": "code",
   "execution_count": 90,
   "id": "326fb6e5",
   "metadata": {},
   "outputs": [
    {
     "data": {
      "text/html": [
       "<div>\n",
       "<style scoped>\n",
       "    .dataframe tbody tr th:only-of-type {\n",
       "        vertical-align: middle;\n",
       "    }\n",
       "\n",
       "    .dataframe tbody tr th {\n",
       "        vertical-align: top;\n",
       "    }\n",
       "\n",
       "    .dataframe thead th {\n",
       "        text-align: right;\n",
       "    }\n",
       "</style>\n",
       "<table border=\"1\" class=\"dataframe\">\n",
       "  <thead>\n",
       "    <tr style=\"text-align: right;\">\n",
       "      <th></th>\n",
       "      <th>MEROKOK</th>\n",
       "      <th>KURANG AKTIFITAS FISIK</th>\n",
       "      <th>GULA BERLEBIHAN</th>\n",
       "      <th>GARAM BERLEBIHAN</th>\n",
       "      <th>LEMAK BERLEBIHAN</th>\n",
       "      <th>KURANG MAKAN BUAH DAN SAYUR</th>\n",
       "      <th>KONSUMSI ALKOHOL</th>\n",
       "      <th>SISTOL</th>\n",
       "      <th>DIASTOL</th>\n",
       "      <th>Diagnosis</th>\n",
       "      <th>Usia</th>\n",
       "    </tr>\n",
       "  </thead>\n",
       "  <tbody>\n",
       "    <tr>\n",
       "      <th>MEROKOK</th>\n",
       "      <td>1.000000</td>\n",
       "      <td>-0.024077</td>\n",
       "      <td>0.015135</td>\n",
       "      <td>0.005182</td>\n",
       "      <td>0.028267</td>\n",
       "      <td>0.058346</td>\n",
       "      <td>0.165596</td>\n",
       "      <td>0.025603</td>\n",
       "      <td>-0.018382</td>\n",
       "      <td>-0.016312</td>\n",
       "      <td>0.040570</td>\n",
       "    </tr>\n",
       "    <tr>\n",
       "      <th>KURANG AKTIFITAS FISIK</th>\n",
       "      <td>-0.024077</td>\n",
       "      <td>1.000000</td>\n",
       "      <td>0.044812</td>\n",
       "      <td>0.154405</td>\n",
       "      <td>0.083734</td>\n",
       "      <td>0.249609</td>\n",
       "      <td>0.019365</td>\n",
       "      <td>0.092399</td>\n",
       "      <td>0.062216</td>\n",
       "      <td>0.065778</td>\n",
       "      <td>0.045811</td>\n",
       "    </tr>\n",
       "    <tr>\n",
       "      <th>GULA BERLEBIHAN</th>\n",
       "      <td>0.015135</td>\n",
       "      <td>0.044812</td>\n",
       "      <td>1.000000</td>\n",
       "      <td>0.204089</td>\n",
       "      <td>0.183922</td>\n",
       "      <td>0.156397</td>\n",
       "      <td>-0.025149</td>\n",
       "      <td>0.213874</td>\n",
       "      <td>0.086245</td>\n",
       "      <td>0.137332</td>\n",
       "      <td>0.139752</td>\n",
       "    </tr>\n",
       "    <tr>\n",
       "      <th>GARAM BERLEBIHAN</th>\n",
       "      <td>0.005182</td>\n",
       "      <td>0.154405</td>\n",
       "      <td>0.204089</td>\n",
       "      <td>1.000000</td>\n",
       "      <td>0.186765</td>\n",
       "      <td>0.169607</td>\n",
       "      <td>0.036697</td>\n",
       "      <td>0.197948</td>\n",
       "      <td>0.112999</td>\n",
       "      <td>0.111680</td>\n",
       "      <td>0.119583</td>\n",
       "    </tr>\n",
       "    <tr>\n",
       "      <th>LEMAK BERLEBIHAN</th>\n",
       "      <td>0.028267</td>\n",
       "      <td>0.083734</td>\n",
       "      <td>0.183922</td>\n",
       "      <td>0.186765</td>\n",
       "      <td>1.000000</td>\n",
       "      <td>0.138794</td>\n",
       "      <td>0.027352</td>\n",
       "      <td>0.141263</td>\n",
       "      <td>0.075619</td>\n",
       "      <td>0.082063</td>\n",
       "      <td>0.062866</td>\n",
       "    </tr>\n",
       "    <tr>\n",
       "      <th>KURANG MAKAN BUAH DAN SAYUR</th>\n",
       "      <td>0.058346</td>\n",
       "      <td>0.249609</td>\n",
       "      <td>0.156397</td>\n",
       "      <td>0.169607</td>\n",
       "      <td>0.138794</td>\n",
       "      <td>1.000000</td>\n",
       "      <td>0.014084</td>\n",
       "      <td>0.083181</td>\n",
       "      <td>0.024886</td>\n",
       "      <td>0.042275</td>\n",
       "      <td>0.063256</td>\n",
       "    </tr>\n",
       "    <tr>\n",
       "      <th>KONSUMSI ALKOHOL</th>\n",
       "      <td>0.165596</td>\n",
       "      <td>0.019365</td>\n",
       "      <td>-0.025149</td>\n",
       "      <td>0.036697</td>\n",
       "      <td>0.027352</td>\n",
       "      <td>0.014084</td>\n",
       "      <td>1.000000</td>\n",
       "      <td>0.033331</td>\n",
       "      <td>0.016747</td>\n",
       "      <td>0.017166</td>\n",
       "      <td>0.021785</td>\n",
       "    </tr>\n",
       "    <tr>\n",
       "      <th>SISTOL</th>\n",
       "      <td>0.025603</td>\n",
       "      <td>0.092399</td>\n",
       "      <td>0.213874</td>\n",
       "      <td>0.197948</td>\n",
       "      <td>0.141263</td>\n",
       "      <td>0.083181</td>\n",
       "      <td>0.033331</td>\n",
       "      <td>1.000000</td>\n",
       "      <td>0.531745</td>\n",
       "      <td>0.565757</td>\n",
       "      <td>0.547133</td>\n",
       "    </tr>\n",
       "    <tr>\n",
       "      <th>DIASTOL</th>\n",
       "      <td>-0.018382</td>\n",
       "      <td>0.062216</td>\n",
       "      <td>0.086245</td>\n",
       "      <td>0.112999</td>\n",
       "      <td>0.075619</td>\n",
       "      <td>0.024886</td>\n",
       "      <td>0.016747</td>\n",
       "      <td>0.531745</td>\n",
       "      <td>1.000000</td>\n",
       "      <td>0.684391</td>\n",
       "      <td>0.137859</td>\n",
       "    </tr>\n",
       "    <tr>\n",
       "      <th>Diagnosis</th>\n",
       "      <td>-0.016312</td>\n",
       "      <td>0.065778</td>\n",
       "      <td>0.137332</td>\n",
       "      <td>0.111680</td>\n",
       "      <td>0.082063</td>\n",
       "      <td>0.042275</td>\n",
       "      <td>0.017166</td>\n",
       "      <td>0.565757</td>\n",
       "      <td>0.684391</td>\n",
       "      <td>1.000000</td>\n",
       "      <td>0.219468</td>\n",
       "    </tr>\n",
       "    <tr>\n",
       "      <th>Usia</th>\n",
       "      <td>0.040570</td>\n",
       "      <td>0.045811</td>\n",
       "      <td>0.139752</td>\n",
       "      <td>0.119583</td>\n",
       "      <td>0.062866</td>\n",
       "      <td>0.063256</td>\n",
       "      <td>0.021785</td>\n",
       "      <td>0.547133</td>\n",
       "      <td>0.137859</td>\n",
       "      <td>0.219468</td>\n",
       "      <td>1.000000</td>\n",
       "    </tr>\n",
       "  </tbody>\n",
       "</table>\n",
       "</div>"
      ],
      "text/plain": [
       "                              MEROKOK  KURANG AKTIFITAS FISIK  \\\n",
       "MEROKOK                      1.000000               -0.024077   \n",
       "KURANG AKTIFITAS FISIK      -0.024077                1.000000   \n",
       "GULA BERLEBIHAN              0.015135                0.044812   \n",
       "GARAM BERLEBIHAN             0.005182                0.154405   \n",
       "LEMAK BERLEBIHAN             0.028267                0.083734   \n",
       "KURANG MAKAN BUAH DAN SAYUR  0.058346                0.249609   \n",
       "KONSUMSI ALKOHOL             0.165596                0.019365   \n",
       "SISTOL                       0.025603                0.092399   \n",
       "DIASTOL                     -0.018382                0.062216   \n",
       "Diagnosis                   -0.016312                0.065778   \n",
       "Usia                         0.040570                0.045811   \n",
       "\n",
       "                             GULA BERLEBIHAN  GARAM BERLEBIHAN  \\\n",
       "MEROKOK                             0.015135          0.005182   \n",
       "KURANG AKTIFITAS FISIK              0.044812          0.154405   \n",
       "GULA BERLEBIHAN                     1.000000          0.204089   \n",
       "GARAM BERLEBIHAN                    0.204089          1.000000   \n",
       "LEMAK BERLEBIHAN                    0.183922          0.186765   \n",
       "KURANG MAKAN BUAH DAN SAYUR         0.156397          0.169607   \n",
       "KONSUMSI ALKOHOL                   -0.025149          0.036697   \n",
       "SISTOL                              0.213874          0.197948   \n",
       "DIASTOL                             0.086245          0.112999   \n",
       "Diagnosis                           0.137332          0.111680   \n",
       "Usia                                0.139752          0.119583   \n",
       "\n",
       "                             LEMAK BERLEBIHAN  KURANG MAKAN BUAH DAN SAYUR  \\\n",
       "MEROKOK                              0.028267                     0.058346   \n",
       "KURANG AKTIFITAS FISIK               0.083734                     0.249609   \n",
       "GULA BERLEBIHAN                      0.183922                     0.156397   \n",
       "GARAM BERLEBIHAN                     0.186765                     0.169607   \n",
       "LEMAK BERLEBIHAN                     1.000000                     0.138794   \n",
       "KURANG MAKAN BUAH DAN SAYUR          0.138794                     1.000000   \n",
       "KONSUMSI ALKOHOL                     0.027352                     0.014084   \n",
       "SISTOL                               0.141263                     0.083181   \n",
       "DIASTOL                              0.075619                     0.024886   \n",
       "Diagnosis                            0.082063                     0.042275   \n",
       "Usia                                 0.062866                     0.063256   \n",
       "\n",
       "                             KONSUMSI ALKOHOL    SISTOL   DIASTOL  Diagnosis  \\\n",
       "MEROKOK                              0.165596  0.025603 -0.018382  -0.016312   \n",
       "KURANG AKTIFITAS FISIK               0.019365  0.092399  0.062216   0.065778   \n",
       "GULA BERLEBIHAN                     -0.025149  0.213874  0.086245   0.137332   \n",
       "GARAM BERLEBIHAN                     0.036697  0.197948  0.112999   0.111680   \n",
       "LEMAK BERLEBIHAN                     0.027352  0.141263  0.075619   0.082063   \n",
       "KURANG MAKAN BUAH DAN SAYUR          0.014084  0.083181  0.024886   0.042275   \n",
       "KONSUMSI ALKOHOL                     1.000000  0.033331  0.016747   0.017166   \n",
       "SISTOL                               0.033331  1.000000  0.531745   0.565757   \n",
       "DIASTOL                              0.016747  0.531745  1.000000   0.684391   \n",
       "Diagnosis                            0.017166  0.565757  0.684391   1.000000   \n",
       "Usia                                 0.021785  0.547133  0.137859   0.219468   \n",
       "\n",
       "                                 Usia  \n",
       "MEROKOK                      0.040570  \n",
       "KURANG AKTIFITAS FISIK       0.045811  \n",
       "GULA BERLEBIHAN              0.139752  \n",
       "GARAM BERLEBIHAN             0.119583  \n",
       "LEMAK BERLEBIHAN             0.062866  \n",
       "KURANG MAKAN BUAH DAN SAYUR  0.063256  \n",
       "KONSUMSI ALKOHOL             0.021785  \n",
       "SISTOL                       0.547133  \n",
       "DIASTOL                      0.137859  \n",
       "Diagnosis                    0.219468  \n",
       "Usia                         1.000000  "
      ]
     },
     "execution_count": 90,
     "metadata": {},
     "output_type": "execute_result"
    }
   ],
   "source": [
    "x"
   ]
  },
  {
   "cell_type": "markdown",
   "id": "d6bf2a44",
   "metadata": {},
   "source": [
    "Splitting Data"
   ]
  },
  {
   "cell_type": "code",
   "execution_count": 27,
   "id": "96fd6b20",
   "metadata": {},
   "outputs": [],
   "source": [
    "X = dataset.drop([\"Diagnosis\"], axis = 1)\n",
    "Y = dataset[\"Diagnosis\"]"
   ]
  },
  {
   "cell_type": "markdown",
   "id": "ac85c821",
   "metadata": {},
   "source": [
    "Oversampling Data"
   ]
  },
  {
   "cell_type": "code",
   "execution_count": 28,
   "id": "d08c2836",
   "metadata": {},
   "outputs": [
    {
     "name": "stderr",
     "output_type": "stream",
     "text": [
      "C:\\Users\\Asus\\anaconda3\\lib\\site-packages\\imblearn\\utils\\_validation.py:313: UserWarning: After over-sampling, the number of samples (1000) in class 0 will be larger than the number of samples in the majority class (class #0 -> 996)\n",
      "  warnings.warn(\n",
      "C:\\Users\\Asus\\anaconda3\\lib\\site-packages\\imblearn\\utils\\_validation.py:313: UserWarning: After over-sampling, the number of samples (1000) in class 1 will be larger than the number of samples in the majority class (class #0 -> 996)\n",
      "  warnings.warn(\n"
     ]
    }
   ],
   "source": [
    "from imblearn.over_sampling import SMOTE\n",
    "# sm = SMOTE(random_state=42)\n",
    "sm = SMOTE(random_state=42, sampling_strategy={0: 1000, 1: 1000})\n",
    "X, Y = sm.fit_resample(X, Y)"
   ]
  },
  {
   "cell_type": "code",
   "execution_count": 29,
   "id": "9d94bf34",
   "metadata": {},
   "outputs": [
    {
     "data": {
      "image/png": "[encoded data removed]",
      "text/plain": [
       "<Figure size 720x432 with 1 Axes>"
      ]
     },
     "metadata": {
      "needs_background": "light"
     },
     "output_type": "display_data"
    }
   ],
   "source": [
    "# Buat bar plot dari data yang telah diresample\n",
    "plt.figure(figsize=(10, 6))\n",
    "plot = Y.value_counts().plot(kind=\"bar\", color=['salmon', 'aqua'])\n",
    "\n",
    "# Tambahkan label jumlah di atas setiap bar plot\n",
    "for i in plot.patches:\n",
    "    plt.annotate(str(i.get_height()), (i.get_x() + i.get_width() / 2., i.get_height()), ha='center', va='center', fontsize=12, xytext=(0, 10), textcoords='offset points')\n",
    "\n",
    "# Tampilkan plot\n",
    "plt.show()"
   ]
  },
  {
   "cell_type": "markdown",
   "id": "157b630f",
   "metadata": {},
   "source": [
    "<h2>Permintaan Bu Ria </h2>\n",
    "Perlakuan kedua data yang sama"
   ]
  },
  {
   "cell_type": "code",
   "execution_count": 30,
   "id": "5d1a5eb9",
   "metadata": {},
   "outputs": [],
   "source": [
    "# Oversampling kedua\n",
    "sm2 = SMOTE(random_state=42, sampling_strategy={0: 1000, 1: 1000})\n",
    "X_resampled2, Y_resampled2 = sm2.fit_resample(X, Y)"
   ]
  },
  {
   "cell_type": "code",
   "execution_count": 31,
   "id": "aa999640",
   "metadata": {},
   "outputs": [
    {
     "data": {
      "image/png": "[encoded data removed]",
      "text/plain": [
       "<Figure size 720x432 with 1 Axes>"
      ]
     },
     "metadata": {
      "needs_background": "light"
     },
     "output_type": "display_data"
    }
   ],
   "source": [
    "# Buat bar plot dari data yang telah diresample\n",
    "plt.figure(figsize=(10, 6))\n",
    "plot = Y_resampled2.value_counts().plot(kind=\"bar\", color=['salmon', 'aqua'])\n",
    "\n",
    "# Tambahkan label jumlah di atas setiap bar plot\n",
    "for i in plot.patches:\n",
    "    plt.annotate(str(i.get_height()), (i.get_x() + i.get_width() / 2., i.get_height()), ha='center', va='center', \n",
    "                 fontsize=12, xytext=(0, 10), textcoords='offset points')\n",
    "\n",
    "# Tampilkan plot\n",
    "plt.show()"
   ]
  },
  {
   "cell_type": "code",
   "execution_count": 32,
   "id": "ddfe37b9",
   "metadata": {},
   "outputs": [],
   "source": [
    "from sklearn.model_selection import train_test_split\n",
    "X_train_2, X_test_2, Y_train_2, Y_test_2 = train_test_split(X_resampled2, Y_resampled2, test_size = 0.2)"
   ]
  },
  {
   "cell_type": "code",
   "execution_count": 33,
   "id": "bb1b3265",
   "metadata": {},
   "outputs": [
    {
     "name": "stdout",
     "output_type": "stream",
     "text": [
      "Banyak Support Vector:\n",
      "1158\n",
      "============================\n",
      "              precision    recall  f1-score   support\n",
      "\n",
      "           0       0.99      0.99      0.99       211\n",
      "           1       0.99      0.98      0.99       189\n",
      "\n",
      "    accuracy                           0.99       400\n",
      "   macro avg       0.99      0.99      0.99       400\n",
      "weighted avg       0.99      0.99      0.99       400\n",
      "\n",
      "Akurasi = 0.9875\n"
     ]
    }
   ],
   "source": [
    "svm_rbf_4_1 = svm.SVC(kernel='rbf', C=100, gamma = 0.1).fit(X_train_2, Y_train_2)\n",
    "svm_rbf_4_pred_1 = svm_rbf_4_1.predict(X_test_2)\n",
    "num_support_vectors = svm_rbf_4_1.support_vectors_\n",
    "print(\"Banyak Support Vector:\")\n",
    "print(len(num_support_vectors))\n",
    "print(\"============================\")\n",
    "print(classification_report(Y_test_2,svm_rbf_4_pred_1))\n",
    "print(\"Akurasi =\",accuracy_score(svm_rbf_4_pred_1, Y_test_2))"
   ]
  },
  {
   "cell_type": "code",
   "execution_count": 34,
   "id": "5723604c",
   "metadata": {},
   "outputs": [
    {
     "name": "stdout",
     "output_type": "stream",
     "text": [
      "   Precision    Recall  Accuracy\n",
      "0   0.957983  0.942149    0.9700\n",
      "1   0.975904  0.975904    0.9900\n",
      "2   0.972477  0.946429    0.9775\n",
      "3   1.000000  0.936620    0.9550\n",
      "4   1.000000  0.965000    0.9650\n"
     ]
    }
   ],
   "source": [
    "svm_rbf_4_1 = svm.SVC(kernel='rbf', C=100, gamma = 0.1).fit(X_train_2, Y_train_2)\n",
    "\n",
    "def get_metrics(estimator, X, y):\n",
    "    precision = cross_val_score(estimator, X, y, cv=KFold(n_splits=5), scoring='precision')\n",
    "    recall = cross_val_score(estimator, X, y, cv=KFold(n_splits=5), scoring='recall')\n",
    "    accuracy = cross_val_score(estimator, X, y, cv=KFold(n_splits=5), scoring='accuracy')\n",
    "    return precision, recall, accuracy\n",
    "\n",
    "precision, recall, accuracy = get_metrics(svm_rbf_4_1, X_resampled2, Y_resampled2)\n",
    "\n",
    "df = pd.DataFrame({\n",
    "    'Precision': precision,\n",
    "    'Recall': recall,\n",
    "    'Accuracy': accuracy\n",
    "})\n",
    "print(df)\n",
    "\n",
    "# df.to_csv('metrics_scores.csv', index=False)"
   ]
  },
  {
   "cell_type": "markdown",
   "id": "6417dea0",
   "metadata": {},
   "source": [
    "Kesimpulan?"
   ]
  },
  {
   "cell_type": "markdown",
   "id": "ab41df3d",
   "metadata": {},
   "source": [
    "---------------------------------------"
   ]
  },
  {
   "cell_type": "markdown",
   "id": "0870894b",
   "metadata": {},
   "source": [
    "Splitting Data"
   ]
  },
  {
   "cell_type": "code",
   "execution_count": 35,
   "id": "879bf1fa",
   "metadata": {},
   "outputs": [
    {
     "data": {
      "text/plain": [
       "MEROKOK                        False\n",
       "KURANG AKTIFITAS FISIK         False\n",
       "GULA BERLEBIHAN                False\n",
       "GARAM BERLEBIHAN               False\n",
       "LEMAK BERLEBIHAN               False\n",
       "KURANG MAKAN BUAH DAN SAYUR    False\n",
       "KONSUMSI ALKOHOL               False\n",
       "SISTOL                         False\n",
       "DIASTOL                        False\n",
       "Usia                           False\n",
       "dtype: bool"
      ]
     },
     "execution_count": 35,
     "metadata": {},
     "output_type": "execute_result"
    }
   ],
   "source": [
    "X.isnull().any()"
   ]
  },
  {
   "cell_type": "code",
   "execution_count": 36,
   "id": "be47ce7d",
   "metadata": {
    "scrolled": true
   },
   "outputs": [
    {
     "data": {
      "text/plain": [
       "0       0\n",
       "1       0\n",
       "2       0\n",
       "3       0\n",
       "4       0\n",
       "       ..\n",
       "1995    1\n",
       "1996    1\n",
       "1997    1\n",
       "1998    1\n",
       "1999    1\n",
       "Name: Diagnosis, Length: 2000, dtype: int64"
      ]
     },
     "execution_count": 36,
     "metadata": {},
     "output_type": "execute_result"
    }
   ],
   "source": [
    "Y"
   ]
  },
  {
   "cell_type": "code",
   "execution_count": 37,
   "id": "c3b08c5d",
   "metadata": {},
   "outputs": [],
   "source": [
    "from sklearn.model_selection import train_test_split\n",
    "X_train, X_test, Y_train, Y_test = train_test_split(X, Y, test_size = 0.2)"
   ]
  },
  {
   "cell_type": "code",
   "execution_count": 38,
   "id": "b7f0c3ca",
   "metadata": {},
   "outputs": [
    {
     "data": {
      "text/html": [
       "<div>\n",
       "<style scoped>\n",
       "    .dataframe tbody tr th:only-of-type {\n",
       "        vertical-align: middle;\n",
       "    }\n",
       "\n",
       "    .dataframe tbody tr th {\n",
       "        vertical-align: top;\n",
       "    }\n",
       "\n",
       "    .dataframe thead th {\n",
       "        text-align: right;\n",
       "    }\n",
       "</style>\n",
       "<table border=\"1\" class=\"dataframe\">\n",
       "  <thead>\n",
       "    <tr style=\"text-align: right;\">\n",
       "      <th></th>\n",
       "      <th>MEROKOK</th>\n",
       "      <th>KURANG AKTIFITAS FISIK</th>\n",
       "      <th>GULA BERLEBIHAN</th>\n",
       "      <th>GARAM BERLEBIHAN</th>\n",
       "      <th>LEMAK BERLEBIHAN</th>\n",
       "      <th>KURANG MAKAN BUAH DAN SAYUR</th>\n",
       "      <th>KONSUMSI ALKOHOL</th>\n",
       "      <th>SISTOL</th>\n",
       "      <th>DIASTOL</th>\n",
       "      <th>Usia</th>\n",
       "    </tr>\n",
       "  </thead>\n",
       "  <tbody>\n",
       "    <tr>\n",
       "      <th>987</th>\n",
       "      <td>0</td>\n",
       "      <td>0</td>\n",
       "      <td>1</td>\n",
       "      <td>1</td>\n",
       "      <td>0</td>\n",
       "      <td>0</td>\n",
       "      <td>0</td>\n",
       "      <td>153</td>\n",
       "      <td>58</td>\n",
       "      <td>70</td>\n",
       "    </tr>\n",
       "    <tr>\n",
       "      <th>933</th>\n",
       "      <td>0</td>\n",
       "      <td>0</td>\n",
       "      <td>0</td>\n",
       "      <td>1</td>\n",
       "      <td>0</td>\n",
       "      <td>0</td>\n",
       "      <td>0</td>\n",
       "      <td>145</td>\n",
       "      <td>87</td>\n",
       "      <td>76</td>\n",
       "    </tr>\n",
       "    <tr>\n",
       "      <th>1104</th>\n",
       "      <td>0</td>\n",
       "      <td>0</td>\n",
       "      <td>0</td>\n",
       "      <td>0</td>\n",
       "      <td>0</td>\n",
       "      <td>1</td>\n",
       "      <td>0</td>\n",
       "      <td>110</td>\n",
       "      <td>60</td>\n",
       "      <td>31</td>\n",
       "    </tr>\n",
       "    <tr>\n",
       "      <th>1640</th>\n",
       "      <td>0</td>\n",
       "      <td>1</td>\n",
       "      <td>0</td>\n",
       "      <td>0</td>\n",
       "      <td>0</td>\n",
       "      <td>0</td>\n",
       "      <td>0</td>\n",
       "      <td>151</td>\n",
       "      <td>90</td>\n",
       "      <td>52</td>\n",
       "    </tr>\n",
       "    <tr>\n",
       "      <th>195</th>\n",
       "      <td>0</td>\n",
       "      <td>0</td>\n",
       "      <td>0</td>\n",
       "      <td>0</td>\n",
       "      <td>0</td>\n",
       "      <td>0</td>\n",
       "      <td>0</td>\n",
       "      <td>125</td>\n",
       "      <td>93</td>\n",
       "      <td>39</td>\n",
       "    </tr>\n",
       "    <tr>\n",
       "      <th>...</th>\n",
       "      <td>...</td>\n",
       "      <td>...</td>\n",
       "      <td>...</td>\n",
       "      <td>...</td>\n",
       "      <td>...</td>\n",
       "      <td>...</td>\n",
       "      <td>...</td>\n",
       "      <td>...</td>\n",
       "      <td>...</td>\n",
       "      <td>...</td>\n",
       "    </tr>\n",
       "    <tr>\n",
       "      <th>1780</th>\n",
       "      <td>0</td>\n",
       "      <td>0</td>\n",
       "      <td>0</td>\n",
       "      <td>0</td>\n",
       "      <td>1</td>\n",
       "      <td>0</td>\n",
       "      <td>0</td>\n",
       "      <td>175</td>\n",
       "      <td>97</td>\n",
       "      <td>68</td>\n",
       "    </tr>\n",
       "    <tr>\n",
       "      <th>399</th>\n",
       "      <td>0</td>\n",
       "      <td>0</td>\n",
       "      <td>0</td>\n",
       "      <td>0</td>\n",
       "      <td>0</td>\n",
       "      <td>0</td>\n",
       "      <td>0</td>\n",
       "      <td>154</td>\n",
       "      <td>69</td>\n",
       "      <td>62</td>\n",
       "    </tr>\n",
       "    <tr>\n",
       "      <th>1466</th>\n",
       "      <td>0</td>\n",
       "      <td>0</td>\n",
       "      <td>0</td>\n",
       "      <td>0</td>\n",
       "      <td>0</td>\n",
       "      <td>0</td>\n",
       "      <td>0</td>\n",
       "      <td>152</td>\n",
       "      <td>99</td>\n",
       "      <td>56</td>\n",
       "    </tr>\n",
       "    <tr>\n",
       "      <th>1178</th>\n",
       "      <td>0</td>\n",
       "      <td>0</td>\n",
       "      <td>0</td>\n",
       "      <td>0</td>\n",
       "      <td>0</td>\n",
       "      <td>0</td>\n",
       "      <td>0</td>\n",
       "      <td>128</td>\n",
       "      <td>79</td>\n",
       "      <td>40</td>\n",
       "    </tr>\n",
       "    <tr>\n",
       "      <th>1229</th>\n",
       "      <td>0</td>\n",
       "      <td>0</td>\n",
       "      <td>1</td>\n",
       "      <td>0</td>\n",
       "      <td>0</td>\n",
       "      <td>0</td>\n",
       "      <td>0</td>\n",
       "      <td>118</td>\n",
       "      <td>80</td>\n",
       "      <td>59</td>\n",
       "    </tr>\n",
       "  </tbody>\n",
       "</table>\n",
       "<p>1600 rows × 10 columns</p>\n",
       "</div>"
      ],
      "text/plain": [
       "      MEROKOK  KURANG AKTIFITAS FISIK  GULA BERLEBIHAN  GARAM BERLEBIHAN  \\\n",
       "987         0                       0                1                 1   \n",
       "933         0                       0                0                 1   \n",
       "1104        0                       0                0                 0   \n",
       "1640        0                       1                0                 0   \n",
       "195         0                       0                0                 0   \n",
       "...       ...                     ...              ...               ...   \n",
       "1780        0                       0                0                 0   \n",
       "399         0                       0                0                 0   \n",
       "1466        0                       0                0                 0   \n",
       "1178        0                       0                0                 0   \n",
       "1229        0                       0                1                 0   \n",
       "\n",
       "      LEMAK BERLEBIHAN  KURANG MAKAN BUAH DAN SAYUR  KONSUMSI ALKOHOL  SISTOL  \\\n",
       "987                  0                            0                 0     153   \n",
       "933                  0                            0                 0     145   \n",
       "1104                 0                            1                 0     110   \n",
       "1640                 0                            0                 0     151   \n",
       "195                  0                            0                 0     125   \n",
       "...                ...                          ...               ...     ...   \n",
       "1780                 1                            0                 0     175   \n",
       "399                  0                            0                 0     154   \n",
       "1466                 0                            0                 0     152   \n",
       "1178                 0                            0                 0     128   \n",
       "1229                 0                            0                 0     118   \n",
       "\n",
       "      DIASTOL  Usia  \n",
       "987        58    70  \n",
       "933        87    76  \n",
       "1104       60    31  \n",
       "1640       90    52  \n",
       "195        93    39  \n",
       "...       ...   ...  \n",
       "1780       97    68  \n",
       "399        69    62  \n",
       "1466       99    56  \n",
       "1178       79    40  \n",
       "1229       80    59  \n",
       "\n",
       "[1600 rows x 10 columns]"
      ]
     },
     "execution_count": 38,
     "metadata": {},
     "output_type": "execute_result"
    }
   ],
   "source": [
    "X_train"
   ]
  },
  {
   "cell_type": "code",
   "execution_count": 39,
   "id": "0103e339",
   "metadata": {},
   "outputs": [],
   "source": [
    "#feature scalling\n",
    "from sklearn.preprocessing import StandardScaler\n",
    "sc = StandardScaler()\n",
    "X_train = sc.fit_transform(X_train)\n",
    "X_test = sc.fit_transform(X_test)"
   ]
  },
  {
   "cell_type": "code",
   "execution_count": 40,
   "id": "aca74999",
   "metadata": {},
   "outputs": [
    {
     "data": {
      "text/plain": [
       "array([[-0.1153237 , -0.51655108,  2.74055438, ...,  0.60536617,\n",
       "        -2.20084845,  1.41010686],\n",
       "       [-0.1153237 , -0.51655108, -0.36488968, ...,  0.26518323,\n",
       "         0.24231553,  1.81880881],\n",
       "       [-0.1153237 , -0.51655108, -0.36488968, ..., -1.22311712,\n",
       "        -2.03235439, -1.24645579],\n",
       "       ...,\n",
       "       [-0.1153237 , -0.51655108, -0.36488968, ...,  0.5628433 ,\n",
       "         1.25327994,  0.45646899],\n",
       "       [-0.1153237 , -0.51655108, -0.36488968, ..., -0.45770551,\n",
       "        -0.43166074, -0.63340287],\n",
       "       [-0.1153237 , -0.51655108,  2.74055438, ..., -0.88293418,\n",
       "        -0.34741371,  0.66081996]])"
      ]
     },
     "execution_count": 40,
     "metadata": {},
     "output_type": "execute_result"
    }
   ],
   "source": [
    "X_train"
   ]
  },
  {
   "cell_type": "code",
   "execution_count": 41,
   "id": "7012375b",
   "metadata": {
    "scrolled": true
   },
   "outputs": [
    {
     "data": {
      "text/plain": [
       "array([-0.12340351,  1.88293774, -0.38655567, -0.41181385, -0.45657334,\n",
       "       -0.59274898,  0.        ,  0.4861522 ,  0.47145543,  0.19257454])"
      ]
     },
     "execution_count": 41,
     "metadata": {},
     "output_type": "execute_result"
    }
   ],
   "source": [
    "x1 = X_test[0]\n",
    "x1"
   ]
  },
  {
   "cell_type": "markdown",
   "id": "427f2445",
   "metadata": {},
   "source": [
    "## 4. Classification"
   ]
  },
  {
   "cell_type": "markdown",
   "id": "7c570395",
   "metadata": {},
   "source": [
    "<b>Penentuan Kernel dan Parameter SVM</b>"
   ]
  },
  {
   "cell_type": "markdown",
   "id": "9d36c5a8",
   "metadata": {},
   "source": [
    "1. Linear <br />\n",
    "Percobaan C = 0,01, 0,1, 1, 10  dan 100"
   ]
  },
  {
   "cell_type": "code",
   "execution_count": 42,
   "id": "3c438208",
   "metadata": {},
   "outputs": [
    {
     "name": "stdout",
     "output_type": "stream",
     "text": [
      "Banyak Support Vector:\n",
      "618\n",
      "============================\n",
      "              precision    recall  f1-score   support\n",
      "\n",
      "           0       0.97      0.87      0.92       205\n",
      "           1       0.88      0.97      0.92       195\n",
      "\n",
      "    accuracy                           0.92       400\n",
      "   macro avg       0.93      0.92      0.92       400\n",
      "weighted avg       0.93      0.92      0.92       400\n",
      "\n",
      "Akurasi = 0.9225\n"
     ]
    }
   ],
   "source": [
    "svm_linear_1 = svm.SVC(kernel='linear', C=0.01).fit(X_train, Y_train)\n",
    "svm_linear_1_pred = svm_linear_1.predict(X_test)\n",
    "num_support_vectors = svm_linear_1.support_vectors_\n",
    "print(\"Banyak Support Vector:\")\n",
    "print(len(num_support_vectors))\n",
    "print(\"============================\")\n",
    "print(classification_report(Y_test,svm_linear_1_pred))\n",
    "print(\"Akurasi =\",accuracy_score(svm_linear_1_pred, Y_test))"
   ]
  },
  {
   "cell_type": "code",
   "execution_count": 43,
   "id": "3993287c",
   "metadata": {},
   "outputs": [
    {
     "name": "stdout",
     "output_type": "stream",
     "text": [
      "Banyak Support Vector:\n",
      "316\n",
      "============================\n",
      "              precision    recall  f1-score   support\n",
      "\n",
      "           0       0.98      0.90      0.94       205\n",
      "           1       0.90      0.98      0.94       195\n",
      "\n",
      "    accuracy                           0.94       400\n",
      "   macro avg       0.94      0.94      0.94       400\n",
      "weighted avg       0.94      0.94      0.94       400\n",
      "\n",
      "Akurasi = 0.9375\n"
     ]
    }
   ],
   "source": [
    "svm_linear_2 = svm.SVC(kernel='linear', C=0.1).fit(X_train, Y_train)\n",
    "svm_linear_2_pred = svm_linear_2.predict(X_test)\n",
    "num_support_vectors = svm_linear_2.support_vectors_\n",
    "print(\"Banyak Support Vector:\")\n",
    "print(len(num_support_vectors))\n",
    "print(\"============================\")\n",
    "print(classification_report(Y_test,svm_linear_2_pred))\n",
    "print(\"Akurasi =\",accuracy_score(svm_linear_2_pred, Y_test))"
   ]
  },
  {
   "cell_type": "code",
   "execution_count": 44,
   "id": "fdb9d680",
   "metadata": {
    "scrolled": true
   },
   "outputs": [
    {
     "name": "stdout",
     "output_type": "stream",
     "text": [
      "Banyak Support Vector:\n",
      "236\n",
      "============================\n",
      "              precision    recall  f1-score   support\n",
      "\n",
      "           0       0.96      0.92      0.94       205\n",
      "           1       0.92      0.96      0.94       195\n",
      "\n",
      "    accuracy                           0.94       400\n",
      "   macro avg       0.94      0.94      0.94       400\n",
      "weighted avg       0.94      0.94      0.94       400\n",
      "\n",
      "Akurasi = 0.94\n"
     ]
    }
   ],
   "source": [
    "svm_linear_3 = svm.SVC(kernel='linear', C=1).fit(X_train, Y_train)\n",
    "svm_linear_3_pred = svm_linear_3.predict(X_test)\n",
    "num_support_vectors = svm_linear_3.support_vectors_\n",
    "print(\"Banyak Support Vector:\")\n",
    "print(len(num_support_vectors))\n",
    "print(\"============================\")\n",
    "print(classification_report(Y_test,svm_linear_3_pred))\n",
    "print(\"Akurasi =\",accuracy_score(svm_linear_3_pred, Y_test))"
   ]
  },
  {
   "cell_type": "code",
   "execution_count": 45,
   "id": "0d4cf717",
   "metadata": {},
   "outputs": [
    {
     "name": "stdout",
     "output_type": "stream",
     "text": [
      "Banyak Support Vector:\n",
      "226\n",
      "============================\n",
      "              precision    recall  f1-score   support\n",
      "\n",
      "           0       0.95      0.91      0.93       205\n",
      "           1       0.91      0.95      0.93       195\n",
      "\n",
      "    accuracy                           0.93       400\n",
      "   macro avg       0.93      0.93      0.93       400\n",
      "weighted avg       0.93      0.93      0.93       400\n",
      "\n",
      "Akurasi = 0.9325\n"
     ]
    }
   ],
   "source": [
    "svm_linear_4 = svm.SVC(kernel='linear', C=10).fit(X_train, Y_train)\n",
    "svm_linear_4_pred = svm_linear_4.predict(X_test)\n",
    "num_support_vectors = svm_linear_4.support_vectors_\n",
    "print(\"Banyak Support Vector:\")\n",
    "print(len(num_support_vectors))\n",
    "print(\"============================\")\n",
    "print(classification_report(Y_test,svm_linear_4_pred))\n",
    "print(\"Akurasi =\",accuracy_score(svm_linear_4_pred, Y_test))"
   ]
  },
  {
   "cell_type": "code",
   "execution_count": 46,
   "id": "93e877ae",
   "metadata": {},
   "outputs": [
    {
     "name": "stdout",
     "output_type": "stream",
     "text": [
      "Banyak Support Vector:\n",
      "225\n",
      "============================\n",
      "              precision    recall  f1-score   support\n",
      "\n",
      "           0       0.95      0.91      0.93       205\n",
      "           1       0.91      0.95      0.93       195\n",
      "\n",
      "    accuracy                           0.93       400\n",
      "   macro avg       0.93      0.93      0.93       400\n",
      "weighted avg       0.93      0.93      0.93       400\n",
      "\n",
      "Akurasi = 0.9325\n"
     ]
    }
   ],
   "source": [
    "svm_linear_5 = svm.SVC(kernel='linear', C=100).fit(X_train, Y_train)\n",
    "svm_linear_5_pred = svm_linear_5.predict(X_test)\n",
    "num_support_vectors = svm_linear_5.support_vectors_\n",
    "print(\"Banyak Support Vector:\")\n",
    "print(len(num_support_vectors))\n",
    "print(\"============================\")\n",
    "print(classification_report(Y_test,svm_linear_5_pred))\n",
    "print(\"Akurasi =\",accuracy_score(svm_linear_5_pred, Y_test))"
   ]
  },
  {
   "cell_type": "markdown",
   "id": "a4462caa",
   "metadata": {},
   "source": [
    "<b>2. RBF <br>\n",
    "Percobaan C = 0,01 , 0,1, 1, 10 dan 100 </b>\n",
    "<b> Percobaan Gamma = 0,01, 0,1, 1, 10 dan 100 </b>"
   ]
  },
  {
   "cell_type": "markdown",
   "id": "737075b7",
   "metadata": {},
   "source": [
    "SVM RBF C = 0.01 dan Gamma = 0.01"
   ]
  },
  {
   "cell_type": "code",
   "execution_count": 47,
   "id": "d12c7626",
   "metadata": {},
   "outputs": [
    {
     "name": "stdout",
     "output_type": "stream",
     "text": [
      "Banyak Support Vector:\n",
      "1590\n",
      "============================\n",
      "              precision    recall  f1-score   support\n",
      "\n",
      "           0       0.97      0.70      0.81       205\n",
      "           1       0.75      0.98      0.85       195\n",
      "\n",
      "    accuracy                           0.83       400\n",
      "   macro avg       0.86      0.84      0.83       400\n",
      "weighted avg       0.87      0.83      0.83       400\n",
      "\n",
      "Akurasi = 0.835\n"
     ]
    }
   ],
   "source": [
    "svm_rbf_0 = svm.SVC(kernel='rbf', C=0.01, gamma = 0.01).fit(X_train, Y_train)\n",
    "svm_rbf_0_pred = svm_rbf_0.predict(X_test)\n",
    "num_support_vectors = svm_rbf_0.support_vectors_\n",
    "print(\"Banyak Support Vector:\")\n",
    "print(len(num_support_vectors))\n",
    "print(\"============================\")\n",
    "print(classification_report(Y_test,svm_rbf_0_pred))\n",
    "print(\"Akurasi =\",accuracy_score(svm_rbf_0_pred, Y_test))"
   ]
  },
  {
   "cell_type": "markdown",
   "id": "1fdb6da3",
   "metadata": {},
   "source": [
    "SVM RBF C = 0.01 dan Gamma = 0.1"
   ]
  },
  {
   "cell_type": "code",
   "execution_count": 48,
   "id": "06cfcc98",
   "metadata": {},
   "outputs": [
    {
     "name": "stdout",
     "output_type": "stream",
     "text": [
      "Banyak Support Vector:\n",
      "1382\n",
      "============================\n",
      "              precision    recall  f1-score   support\n",
      "\n",
      "           0       0.88      0.85      0.87       205\n",
      "           1       0.85      0.88      0.87       195\n",
      "\n",
      "    accuracy                           0.87       400\n",
      "   macro avg       0.87      0.87      0.87       400\n",
      "weighted avg       0.87      0.87      0.87       400\n",
      "\n",
      "Akurasi = 0.8675\n"
     ]
    }
   ],
   "source": [
    "svm_rbf_0_1 = svm.SVC(kernel='rbf', C=0.01, gamma = 0.1).fit(X_train, Y_train)\n",
    "svm_rbf_0_pred_1 = svm_rbf_0_1.predict(X_test)\n",
    "num_support_vectors = svm_rbf_0_1.support_vectors_\n",
    "print(\"Banyak Support Vector:\")\n",
    "print(len(num_support_vectors))\n",
    "print(\"============================\")\n",
    "print(classification_report(Y_test,svm_rbf_0_pred_1))\n",
    "print(\"Akurasi =\",accuracy_score(svm_rbf_0_pred_1, Y_test))"
   ]
  },
  {
   "cell_type": "markdown",
   "id": "ddf3e35c",
   "metadata": {},
   "source": [
    "SVM RBF C = 0.01 dan Gamma = 1"
   ]
  },
  {
   "cell_type": "code",
   "execution_count": 49,
   "id": "cb97b2d2",
   "metadata": {},
   "outputs": [
    {
     "name": "stdout",
     "output_type": "stream",
     "text": [
      "Banyak Support Vector:\n",
      "1578\n",
      "============================\n",
      "              precision    recall  f1-score   support\n",
      "\n",
      "           0       0.68      0.94      0.79       205\n",
      "           1       0.90      0.53      0.66       195\n",
      "\n",
      "    accuracy                           0.74       400\n",
      "   macro avg       0.79      0.73      0.73       400\n",
      "weighted avg       0.78      0.74      0.73       400\n",
      "\n",
      "Akurasi = 0.74\n"
     ]
    }
   ],
   "source": [
    "svm_rbf_0_2 = svm.SVC(kernel='rbf', C=0.01, gamma = 1).fit(X_train, Y_train)\n",
    "svm_rbf_0_pred_2 = svm_rbf_0_2.predict(X_test)\n",
    "num_support_vectors = svm_rbf_0_2.support_vectors_\n",
    "print(\"Banyak Support Vector:\")\n",
    "print(len(num_support_vectors))\n",
    "print(\"============================\")\n",
    "print(classification_report(Y_test,svm_rbf_0_pred_2))\n",
    "print(\"Akurasi =\",accuracy_score(svm_rbf_0_pred_2, Y_test))"
   ]
  },
  {
   "cell_type": "markdown",
   "id": "20f7bed7",
   "metadata": {},
   "source": [
    "SVM RBF C = 0.01 dan Gamma = 10"
   ]
  },
  {
   "cell_type": "code",
   "execution_count": 50,
   "id": "888d1819",
   "metadata": {},
   "outputs": [
    {
     "name": "stdout",
     "output_type": "stream",
     "text": [
      "Banyak Support Vector:\n",
      "1592\n",
      "============================\n",
      "              precision    recall  f1-score   support\n",
      "\n",
      "           0       0.00      0.00      0.00       205\n",
      "           1       0.49      1.00      0.66       195\n",
      "\n",
      "    accuracy                           0.49       400\n",
      "   macro avg       0.24      0.50      0.33       400\n",
      "weighted avg       0.24      0.49      0.32       400\n",
      "\n",
      "Akurasi = 0.4875\n"
     ]
    },
    {
     "name": "stderr",
     "output_type": "stream",
     "text": [
      "C:\\Users\\Asus\\anaconda3\\lib\\site-packages\\sklearn\\metrics\\_classification.py:1344: UndefinedMetricWarning: Precision and F-score are ill-defined and being set to 0.0 in labels with no predicted samples. Use `zero_division` parameter to control this behavior.\n",
      "  _warn_prf(average, modifier, msg_start, len(result))\n",
      "C:\\Users\\Asus\\anaconda3\\lib\\site-packages\\sklearn\\metrics\\_classification.py:1344: UndefinedMetricWarning: Precision and F-score are ill-defined and being set to 0.0 in labels with no predicted samples. Use `zero_division` parameter to control this behavior.\n",
      "  _warn_prf(average, modifier, msg_start, len(result))\n",
      "C:\\Users\\Asus\\anaconda3\\lib\\site-packages\\sklearn\\metrics\\_classification.py:1344: UndefinedMetricWarning: Precision and F-score are ill-defined and being set to 0.0 in labels with no predicted samples. Use `zero_division` parameter to control this behavior.\n",
      "  _warn_prf(average, modifier, msg_start, len(result))\n"
     ]
    }
   ],
   "source": [
    "svm_rbf_0_3 = svm.SVC(kernel='rbf', C=0.01, gamma = 10).fit(X_train, Y_train)\n",
    "svm_rbf_0_pred_3 = svm_rbf_0_3.predict(X_test)\n",
    "num_support_vectors = svm_rbf_0_3.support_vectors_\n",
    "print(\"Banyak Support Vector:\")\n",
    "print(len(num_support_vectors))\n",
    "print(\"============================\")\n",
    "print(classification_report(Y_test,svm_rbf_0_pred_3))\n",
    "print(\"Akurasi =\",accuracy_score(svm_rbf_0_pred_3, Y_test))"
   ]
  },
  {
   "cell_type": "markdown",
   "id": "c09b3e06",
   "metadata": {},
   "source": [
    "SVM RBF C = 0.1 dan Gamma = 0.01"
   ]
  },
  {
   "cell_type": "code",
   "execution_count": 51,
   "id": "cb1b6531",
   "metadata": {},
   "outputs": [
    {
     "name": "stdout",
     "output_type": "stream",
     "text": [
      "Banyak Support Vector:\n",
      "1016\n",
      "============================\n",
      "              precision    recall  f1-score   support\n",
      "\n",
      "           0       0.95      0.82      0.88       205\n",
      "           1       0.84      0.96      0.89       195\n",
      "\n",
      "    accuracy                           0.89       400\n",
      "   macro avg       0.90      0.89      0.89       400\n",
      "weighted avg       0.90      0.89      0.89       400\n",
      "\n",
      "Akurasi = 0.89\n"
     ]
    }
   ],
   "source": [
    "svm_rbf_1_0 = svm.SVC(kernel='rbf', C=0.1, gamma = 0.01).fit(X_train, Y_train)\n",
    "svm_rbf_1_pred_0 = svm_rbf_1_0.predict(X_test)\n",
    "num_support_vectors = svm_rbf_1_0.support_vectors_\n",
    "print(\"Banyak Support Vector:\")\n",
    "print(len(num_support_vectors))\n",
    "print(\"============================\")\n",
    "print(classification_report(Y_test,svm_rbf_1_pred_0))\n",
    "print(\"Akurasi =\",accuracy_score(svm_rbf_1_pred_0, Y_test))"
   ]
  },
  {
   "cell_type": "markdown",
   "id": "502fda24",
   "metadata": {},
   "source": [
    "SVM RBF C = 0.1 dan Gamma = 0.1"
   ]
  },
  {
   "cell_type": "code",
   "execution_count": 52,
   "id": "542da8f9",
   "metadata": {},
   "outputs": [
    {
     "name": "stdout",
     "output_type": "stream",
     "text": [
      "Banyak Support Vector:\n",
      "736\n",
      "============================\n",
      "              precision    recall  f1-score   support\n",
      "\n",
      "           0       0.97      0.87      0.92       205\n",
      "           1       0.88      0.97      0.92       195\n",
      "\n",
      "    accuracy                           0.92       400\n",
      "   macro avg       0.92      0.92      0.92       400\n",
      "weighted avg       0.92      0.92      0.92       400\n",
      "\n",
      "Akurasi = 0.92\n"
     ]
    }
   ],
   "source": [
    "svm_rbf_1_1 = svm.SVC(kernel='rbf', C=0.1, gamma = 0.1).fit(X_train, Y_train)\n",
    "svm_rbf_1_pred_1 = svm_rbf_1_1.predict(X_test)\n",
    "num_support_vectors = svm_rbf_1_1.support_vectors_\n",
    "print(\"Banyak Support Vector:\")\n",
    "print(len(num_support_vectors))\n",
    "print(\"============================\")\n",
    "print(classification_report(Y_test,svm_rbf_1_pred_1))\n",
    "print(\"Akurasi =\",accuracy_score(svm_rbf_1_pred_1, Y_test))"
   ]
  },
  {
   "cell_type": "markdown",
   "id": "17d20d7b",
   "metadata": {},
   "source": [
    "SVM RBF C= 0.1 dan Gamma = 1"
   ]
  },
  {
   "cell_type": "code",
   "execution_count": 53,
   "id": "29f80074",
   "metadata": {},
   "outputs": [
    {
     "name": "stdout",
     "output_type": "stream",
     "text": [
      "Banyak Support Vector:\n",
      "1093\n",
      "============================\n",
      "              precision    recall  f1-score   support\n",
      "\n",
      "           0       0.83      0.93      0.88       205\n",
      "           1       0.92      0.80      0.85       195\n",
      "\n",
      "    accuracy                           0.87       400\n",
      "   macro avg       0.87      0.87      0.87       400\n",
      "weighted avg       0.87      0.87      0.87       400\n",
      "\n",
      "Akurasi = 0.8675\n"
     ]
    }
   ],
   "source": [
    "svm_rbf_1_2 = svm.SVC(kernel='rbf', C=0.1, gamma = 1).fit(X_train, Y_train)\n",
    "svm_rbf_1_pred_2 = svm_rbf_1_2.predict(X_test)\n",
    "num_support_vectors = svm_rbf_1_2.support_vectors_\n",
    "print(\"Banyak Support Vector:\")\n",
    "print(len(num_support_vectors))\n",
    "print(\"============================\")\n",
    "print(classification_report(Y_test,svm_rbf_1_pred_2))\n",
    "print(\"Akurasi =\",accuracy_score(svm_rbf_1_pred_2, Y_test))"
   ]
  },
  {
   "cell_type": "markdown",
   "id": "b74bf249",
   "metadata": {},
   "source": [
    "SVM RBF C= 0.1 dan Gamma = 10"
   ]
  },
  {
   "cell_type": "code",
   "execution_count": 54,
   "id": "3191ded0",
   "metadata": {},
   "outputs": [
    {
     "name": "stdout",
     "output_type": "stream",
     "text": [
      "Banyak Support Vector:\n",
      "1537\n",
      "============================\n",
      "              precision    recall  f1-score   support\n",
      "\n",
      "           0       0.66      1.00      0.80       205\n",
      "           1       0.99      0.47      0.64       195\n",
      "\n",
      "    accuracy                           0.74       400\n",
      "   macro avg       0.83      0.73      0.72       400\n",
      "weighted avg       0.82      0.74      0.72       400\n",
      "\n",
      "Akurasi = 0.74\n"
     ]
    }
   ],
   "source": [
    "svm_rbf_1_3 = svm.SVC(kernel='rbf', C=0.1, gamma = 10).fit(X_train, Y_train)\n",
    "svm_rbf_1_pred_3 = svm_rbf_1_3.predict(X_test)\n",
    "num_support_vectors = svm_rbf_1_3.support_vectors_\n",
    "print(\"Banyak Support Vector:\")\n",
    "print(len(num_support_vectors))\n",
    "print(\"============================\")\n",
    "print(classification_report(Y_test,svm_rbf_1_pred_3))\n",
    "print(\"Akurasi =\",accuracy_score(svm_rbf_1_pred_3, Y_test))"
   ]
  },
  {
   "cell_type": "markdown",
   "id": "11245a32",
   "metadata": {},
   "source": [
    "SVM RBF C = 1 dan Gamma = 0.01"
   ]
  },
  {
   "cell_type": "code",
   "execution_count": 55,
   "id": "a32a26e4",
   "metadata": {},
   "outputs": [
    {
     "name": "stdout",
     "output_type": "stream",
     "text": [
      "Banyak Support Vector:\n",
      "514\n",
      "============================\n",
      "              precision    recall  f1-score   support\n",
      "\n",
      "           0       0.96      0.88      0.92       205\n",
      "           1       0.89      0.96      0.92       195\n",
      "\n",
      "    accuracy                           0.92       400\n",
      "   macro avg       0.92      0.92      0.92       400\n",
      "weighted avg       0.93      0.92      0.92       400\n",
      "\n",
      "Akurasi = 0.9225\n"
     ]
    }
   ],
   "source": [
    "svm_rbf_2_0 = svm.SVC(kernel='rbf', C=1, gamma = 0.01).fit(X_train, Y_train)\n",
    "svm_rbf_2_pred_0 = svm_rbf_2_0.predict(X_test)\n",
    "num_support_vectors = svm_rbf_2_0.support_vectors_\n",
    "print(\"Banyak Support Vector:\")\n",
    "print(len(num_support_vectors))\n",
    "print(\"============================\")\n",
    "print(classification_report(Y_test,svm_rbf_2_pred_0))\n",
    "print(\"Akurasi =\",accuracy_score(svm_rbf_2_pred_0, Y_test))"
   ]
  },
  {
   "cell_type": "markdown",
   "id": "ffdb4d1f",
   "metadata": {},
   "source": [
    "SVM RBF C = 1 dan Gamma = 0.1"
   ]
  },
  {
   "cell_type": "code",
   "execution_count": 56,
   "id": "d34c038b",
   "metadata": {},
   "outputs": [
    {
     "name": "stdout",
     "output_type": "stream",
     "text": [
      "Banyak Support Vector:\n",
      "369\n",
      "============================\n",
      "              precision    recall  f1-score   support\n",
      "\n",
      "           0       0.97      0.92      0.95       205\n",
      "           1       0.92      0.97      0.95       195\n",
      "\n",
      "    accuracy                           0.95       400\n",
      "   macro avg       0.95      0.95      0.95       400\n",
      "weighted avg       0.95      0.95      0.95       400\n",
      "\n",
      "Akurasi = 0.9475\n"
     ]
    }
   ],
   "source": [
    "svm_rbf_2_1 = svm.SVC(kernel='rbf', C=1, gamma = 0.1).fit(X_train, Y_train)\n",
    "svm_rbf_2_pred_1 = svm_rbf_2_1.predict(X_test)\n",
    "num_support_vectors = svm_rbf_2_1.support_vectors_\n",
    "print(\"Banyak Support Vector:\")\n",
    "print(len(num_support_vectors))\n",
    "print(\"============================\")\n",
    "print(classification_report(Y_test,svm_rbf_2_pred_1))\n",
    "print(\"Akurasi =\",accuracy_score(svm_rbf_2_pred_1, Y_test))"
   ]
  },
  {
   "cell_type": "markdown",
   "id": "925f4069",
   "metadata": {},
   "source": [
    "SVM RBF C = 1 dan Gamma = 1"
   ]
  },
  {
   "cell_type": "code",
   "execution_count": 57,
   "id": "fc91163b",
   "metadata": {},
   "outputs": [
    {
     "name": "stdout",
     "output_type": "stream",
     "text": [
      "Banyak Support Vector:\n",
      "661\n",
      "============================\n",
      "              precision    recall  f1-score   support\n",
      "\n",
      "           0       0.95      0.95      0.95       205\n",
      "           1       0.94      0.95      0.95       195\n",
      "\n",
      "    accuracy                           0.95       400\n",
      "   macro avg       0.95      0.95      0.95       400\n",
      "weighted avg       0.95      0.95      0.95       400\n",
      "\n",
      "Akurasi = 0.9475\n"
     ]
    }
   ],
   "source": [
    "svm_rbf_2 = svm.SVC(kernel='rbf', C=1, gamma = 1).fit(X_train, Y_train)\n",
    "svm_rbf_2_pred = svm_rbf_2.predict(X_test)\n",
    "num_support_vectors = svm_rbf_2.support_vectors_\n",
    "print(\"Banyak Support Vector:\")\n",
    "print(len(num_support_vectors))\n",
    "print(\"============================\")\n",
    "print(classification_report(Y_test,svm_rbf_2_pred))\n",
    "print(\"Akurasi =\",accuracy_score(svm_rbf_2_pred, Y_test))"
   ]
  },
  {
   "cell_type": "markdown",
   "id": "3f3592c5",
   "metadata": {},
   "source": [
    "SVM RBF C = 1 dan Gamma = 10"
   ]
  },
  {
   "cell_type": "code",
   "execution_count": 58,
   "id": "2cfbcd23",
   "metadata": {},
   "outputs": [
    {
     "name": "stdout",
     "output_type": "stream",
     "text": [
      "Banyak Support Vector:\n",
      "1181\n",
      "============================\n",
      "              precision    recall  f1-score   support\n",
      "\n",
      "           0       0.84      1.00      0.91       205\n",
      "           1       0.99      0.81      0.89       195\n",
      "\n",
      "    accuracy                           0.90       400\n",
      "   macro avg       0.92      0.90      0.90       400\n",
      "weighted avg       0.92      0.90      0.90       400\n",
      "\n",
      "Akurasi = 0.9025\n"
     ]
    }
   ],
   "source": [
    "svm_rbf_2_3 = svm.SVC(kernel='rbf', C=1, gamma = 10).fit(X_train, Y_train)\n",
    "svm_rbf_2_pred_3 = svm_rbf_2_3.predict(X_test)\n",
    "num_support_vectors = svm_rbf_2_3.support_vectors_\n",
    "print(\"Banyak Support Vector:\")\n",
    "print(len(num_support_vectors))\n",
    "print(\"============================\")\n",
    "print(classification_report(Y_test,svm_rbf_2_pred_3))\n",
    "print(\"Akurasi =\",accuracy_score(svm_rbf_2_pred_3, Y_test))"
   ]
  },
  {
   "cell_type": "markdown",
   "id": "882a7984",
   "metadata": {},
   "source": [
    "SVM RBF C = 10 dan Gamma = 0.01"
   ]
  },
  {
   "cell_type": "code",
   "execution_count": 59,
   "id": "3c6805d8",
   "metadata": {},
   "outputs": [
    {
     "name": "stdout",
     "output_type": "stream",
     "text": [
      "Banyak Support Vector:\n",
      "283\n",
      "============================\n",
      "              precision    recall  f1-score   support\n",
      "\n",
      "           0       0.98      0.92      0.95       205\n",
      "           1       0.92      0.98      0.95       195\n",
      "\n",
      "    accuracy                           0.95       400\n",
      "   macro avg       0.95      0.95      0.95       400\n",
      "weighted avg       0.95      0.95      0.95       400\n",
      "\n",
      "Akurasi = 0.9475\n"
     ]
    }
   ],
   "source": [
    "svm_rbf_3_0 = svm.SVC(kernel='rbf', C=10, gamma = 0.01).fit(X_train, Y_train)\n",
    "svm_rbf_3_pred_0 = svm_rbf_3_0.predict(X_test)\n",
    "num_support_vectors = svm_rbf_3_0.support_vectors_\n",
    "print(\"Banyak Support Vector:\")\n",
    "print(len(num_support_vectors))\n",
    "print(\"============================\")\n",
    "print(classification_report(Y_test,svm_rbf_3_pred_0))\n",
    "print(\"Akurasi =\",accuracy_score(svm_rbf_3_pred_0, Y_test))"
   ]
  },
  {
   "cell_type": "markdown",
   "id": "cf743b4f",
   "metadata": {},
   "source": [
    "SVM RBF C = 10 dan Gamma = 0.1"
   ]
  },
  {
   "cell_type": "code",
   "execution_count": 60,
   "id": "86a3c9ee",
   "metadata": {},
   "outputs": [
    {
     "name": "stdout",
     "output_type": "stream",
     "text": [
      "Banyak Support Vector:\n",
      "201\n",
      "============================\n",
      "              precision    recall  f1-score   support\n",
      "\n",
      "           0       0.99      0.96      0.97       205\n",
      "           1       0.96      0.99      0.97       195\n",
      "\n",
      "    accuracy                           0.97       400\n",
      "   macro avg       0.97      0.97      0.97       400\n",
      "weighted avg       0.97      0.97      0.97       400\n",
      "\n",
      "Akurasi = 0.9725\n"
     ]
    }
   ],
   "source": [
    "svm_rbf_3_1 = svm.SVC(kernel='rbf', C=10, gamma = 0.1).fit(X_train, Y_train)\n",
    "svm_rbf_3_pred_1 = svm_rbf_3_1.predict(X_test)\n",
    "num_support_vectors = svm_rbf_3_1.support_vectors_\n",
    "print(\"Banyak Support Vector:\")\n",
    "print(len(num_support_vectors))\n",
    "print(\"============================\")\n",
    "print(classification_report(Y_test,svm_rbf_3_pred_1))\n",
    "print(\"Akurasi =\",accuracy_score(svm_rbf_3_pred_1, Y_test))"
   ]
  },
  {
   "cell_type": "markdown",
   "id": "a652dde1",
   "metadata": {},
   "source": [
    "SVM RBF C = 10 dan Gamma = 1"
   ]
  },
  {
   "cell_type": "code",
   "execution_count": 61,
   "id": "e2578220",
   "metadata": {},
   "outputs": [
    {
     "name": "stdout",
     "output_type": "stream",
     "text": [
      "Banyak Support Vector:\n",
      "522\n",
      "============================\n",
      "              precision    recall  f1-score   support\n",
      "\n",
      "           0       0.95      0.97      0.96       205\n",
      "           1       0.97      0.95      0.96       195\n",
      "\n",
      "    accuracy                           0.96       400\n",
      "   macro avg       0.96      0.96      0.96       400\n",
      "weighted avg       0.96      0.96      0.96       400\n",
      "\n",
      "Akurasi = 0.96\n"
     ]
    }
   ],
   "source": [
    "svm_rbf_3_2 = svm.SVC(kernel='rbf', C=10, gamma = 1).fit(X_train, Y_train)\n",
    "svm_rbf_3_pred_2 = svm_rbf_3_2.predict(X_test)\n",
    "num_support_vectors = svm_rbf_3_2.support_vectors_\n",
    "print(\"Banyak Support Vector:\")\n",
    "print(len(num_support_vectors))\n",
    "print(\"============================\")\n",
    "print(classification_report(Y_test,svm_rbf_3_pred_2))\n",
    "print(\"Akurasi =\",accuracy_score(svm_rbf_3_pred_2, Y_test))"
   ]
  },
  {
   "cell_type": "markdown",
   "id": "57c78a98",
   "metadata": {},
   "source": [
    "SVM RBF C = 10 dan Gamma = 10"
   ]
  },
  {
   "cell_type": "code",
   "execution_count": 62,
   "id": "cb451ea0",
   "metadata": {},
   "outputs": [
    {
     "name": "stdout",
     "output_type": "stream",
     "text": [
      "Banyak Support Vector:\n",
      "1131\n",
      "============================\n",
      "              precision    recall  f1-score   support\n",
      "\n",
      "           0       0.85      0.99      0.92       205\n",
      "           1       0.99      0.82      0.90       195\n",
      "\n",
      "    accuracy                           0.91       400\n",
      "   macro avg       0.92      0.91      0.91       400\n",
      "weighted avg       0.92      0.91      0.91       400\n",
      "\n",
      "Akurasi = 0.9075\n"
     ]
    }
   ],
   "source": [
    "svm_rbf_3_3 = svm.SVC(kernel='rbf', C=10, gamma = 10).fit(X_train, Y_train)\n",
    "svm_rbf_3_pred_3 = svm_rbf_3_3.predict(X_test)\n",
    "num_support_vectors = svm_rbf_3_3.support_vectors_\n",
    "print(\"Banyak Support Vector:\")\n",
    "print(len(num_support_vectors))\n",
    "print(\"============================\")\n",
    "print(classification_report(Y_test,svm_rbf_3_pred_3))\n",
    "print(\"Akurasi =\",accuracy_score(svm_rbf_3_pred_3, Y_test))"
   ]
  },
  {
   "cell_type": "markdown",
   "id": "4d8c0c89",
   "metadata": {},
   "source": [
    "SVM RBF C = 100 dan Gamma = 0.01"
   ]
  },
  {
   "cell_type": "code",
   "execution_count": 63,
   "id": "e1d81b40",
   "metadata": {},
   "outputs": [
    {
     "name": "stdout",
     "output_type": "stream",
     "text": [
      "Banyak Support Vector:\n",
      "187\n",
      "============================\n",
      "              precision    recall  f1-score   support\n",
      "\n",
      "           0       0.97      0.94      0.96       205\n",
      "           1       0.94      0.97      0.96       195\n",
      "\n",
      "    accuracy                           0.96       400\n",
      "   macro avg       0.96      0.96      0.96       400\n",
      "weighted avg       0.96      0.96      0.96       400\n",
      "\n",
      "Akurasi = 0.9575\n"
     ]
    }
   ],
   "source": [
    "svm_rbf_4_0 = svm.SVC(kernel='rbf', C=100, gamma = 0.01).fit(X_train, Y_train)\n",
    "svm_rbf_4_pred_0 = svm_rbf_4_0.predict(X_test)\n",
    "num_support_vectors = svm_rbf_4_0.support_vectors_\n",
    "print(\"Banyak Support Vector:\")\n",
    "print(len(num_support_vectors))\n",
    "print(\"============================\")\n",
    "print(classification_report(Y_test,svm_rbf_4_pred_0))\n",
    "print(\"Akurasi =\",accuracy_score(svm_rbf_4_pred_0, Y_test))"
   ]
  },
  {
   "cell_type": "markdown",
   "id": "499cbd12",
   "metadata": {},
   "source": [
    "SVM RBF C = 100 dan Gamma = 0.1"
   ]
  },
  {
   "cell_type": "code",
   "execution_count": 64,
   "id": "31bfd027",
   "metadata": {},
   "outputs": [
    {
     "name": "stdout",
     "output_type": "stream",
     "text": [
      "Banyak Support Vector:\n",
      "134\n",
      "============================\n",
      "              precision    recall  f1-score   support\n",
      "\n",
      "           0       0.98      0.98      0.98       205\n",
      "           1       0.98      0.97      0.98       195\n",
      "\n",
      "    accuracy                           0.98       400\n",
      "   macro avg       0.98      0.98      0.98       400\n",
      "weighted avg       0.98      0.98      0.98       400\n",
      "\n",
      "Akurasi = 0.9775\n"
     ]
    }
   ],
   "source": [
    "svm_rbf_4_1 = svm.SVC(kernel='rbf', C=100, gamma = 0.1).fit(X_train, Y_train)\n",
    "svm_rbf_4_pred_1 = svm_rbf_4_1.predict(X_test)\n",
    "num_support_vectors = svm_rbf_4_1.support_vectors_\n",
    "print(\"Banyak Support Vector:\")\n",
    "print(len(num_support_vectors))\n",
    "print(\"============================\")\n",
    "print(classification_report(Y_test,svm_rbf_4_pred_1))\n",
    "print(\"Akurasi =\",accuracy_score(svm_rbf_4_pred_1, Y_test))"
   ]
  },
  {
   "cell_type": "markdown",
   "id": "2b352f47",
   "metadata": {},
   "source": [
    "SVM RBF C = 100 dan Gamma = 1"
   ]
  },
  {
   "cell_type": "code",
   "execution_count": 65,
   "id": "97662543",
   "metadata": {},
   "outputs": [
    {
     "name": "stdout",
     "output_type": "stream",
     "text": [
      "Banyak Support Vector:\n",
      "492\n",
      "============================\n",
      "              precision    recall  f1-score   support\n",
      "\n",
      "           0       0.95      0.97      0.96       205\n",
      "           1       0.97      0.95      0.96       195\n",
      "\n",
      "    accuracy                           0.96       400\n",
      "   macro avg       0.96      0.96      0.96       400\n",
      "weighted avg       0.96      0.96      0.96       400\n",
      "\n",
      "Akurasi = 0.96\n"
     ]
    }
   ],
   "source": [
    "svm_rbf_4_2 = svm.SVC(kernel='rbf', C=100, gamma = 1).fit(X_train, Y_train)\n",
    "svm_rbf_4_pred_2 = svm_rbf_4_2.predict(X_test)\n",
    "num_support_vectors = svm_rbf_4_2.support_vectors_\n",
    "print(\"Banyak Support Vector:\")\n",
    "print(len(num_support_vectors))\n",
    "print(\"============================\")\n",
    "print(classification_report(Y_test,svm_rbf_4_pred_2))\n",
    "print(\"Akurasi =\",accuracy_score(svm_rbf_4_pred_2, Y_test))"
   ]
  },
  {
   "cell_type": "markdown",
   "id": "e92f3259",
   "metadata": {},
   "source": [
    "SVM RBF C = 100 dan Gamma = 10"
   ]
  },
  {
   "cell_type": "code",
   "execution_count": 66,
   "id": "6938b0e0",
   "metadata": {},
   "outputs": [
    {
     "name": "stdout",
     "output_type": "stream",
     "text": [
      "Banyak Support Vector:\n",
      "1133\n",
      "============================\n",
      "              precision    recall  f1-score   support\n",
      "\n",
      "           0       0.85      0.99      0.92       205\n",
      "           1       0.99      0.82      0.90       195\n",
      "\n",
      "    accuracy                           0.91       400\n",
      "   macro avg       0.92      0.91      0.91       400\n",
      "weighted avg       0.92      0.91      0.91       400\n",
      "\n",
      "Akurasi = 0.9075\n"
     ]
    }
   ],
   "source": [
    "svm_rbf_4 = svm.SVC(kernel='rbf', C=100, gamma = 10).fit(X_train, Y_train)\n",
    "svm_rbf_4_pred = svm_rbf_4.predict(X_test)\n",
    "num_support_vectors = svm_rbf_4.support_vectors_\n",
    "print(\"Banyak Support Vector:\")\n",
    "print(len(num_support_vectors))\n",
    "print(\"============================\")\n",
    "print(classification_report(Y_test,svm_rbf_4_pred))\n",
    "print(\"Akurasi =\",accuracy_score(svm_rbf_4_pred, Y_test))"
   ]
  },
  {
   "cell_type": "code",
   "execution_count": 67,
   "id": "05bac2d8",
   "metadata": {},
   "outputs": [
    {
     "name": "stdout",
     "output_type": "stream",
     "text": [
      "Banyak Support Vector:\n",
      "279\n",
      "============================\n",
      "              precision    recall  f1-score   support\n",
      "\n",
      "           0       0.98      0.91      0.94       205\n",
      "           1       0.91      0.98      0.95       195\n",
      "\n",
      "    accuracy                           0.94       400\n",
      "   macro avg       0.95      0.95      0.94       400\n",
      "weighted avg       0.95      0.94      0.94       400\n",
      "\n"
     ]
    }
   ],
   "source": [
    "# testing = svm.SVC(kernel='poly', degree = 3, C=1).fit(X_train, Y_train_encoded)\n",
    "# poly = svm.SVC(kernel='poly', C=1000).fit(X_train, Y_train)\n",
    "testing = svm.SVC(kernel='rbf', gamma=0.001, C=100).fit(X_train, Y_train)\n",
    "testing_pred = testing.predict(X_test)\n",
    "num_support_vectors = testing.support_vectors_\n",
    "print(\"Banyak Support Vector:\")\n",
    "print(len(num_support_vectors))\n",
    "print(\"============================\")\n",
    "print(classification_report(Y_test , testing_pred ))"
   ]
  },
  {
   "cell_type": "code",
   "execution_count": 68,
   "id": "95f523ea",
   "metadata": {},
   "outputs": [
    {
     "name": "stdout",
     "output_type": "stream",
     "text": [
      "[1 1 0 1 0 0 1 0 1 0 0 0 0 0 1 0 0 0 0 1 1 0 1 1 0 0 0 1 0 0 0 1 1 0 0 0 0\n",
      " 0 0 1 1 0 1 1 0 0 0 1 0 1 0 1 1 0 0 0 0 0 1 1 1 1 1 0 0 0 1 1 0 0 0 0 0 0\n",
      " 0 0 1 1 0 0 1 0 1 0 1 0 0 0 0 1 0 0 0 1 0 0 1 0 0 0 0 0 1 0 1 0 0 1 1 1 1\n",
      " 0 1 0 0 1 1 1 1 0 0 0 1 0 0 0 0 0 1 1 1 1 1 1 1 1 0 1 1 0 0 0 1 0 1 1 1 0\n",
      " 0 1 0 1 1 1 0 0 1 1 0 0 1 1 1 0 0 1 1 1 1 0 1 1 1 0 0 1 1 1 1 0 0 1 0 1 0\n",
      " 1 1 1 1 1 1 0 0 1 1 1 0 0 0 1 0 0 1 0 1 1 1 1 1 0 0 1 1 0 0 0 0 1 0 0 1 1\n",
      " 0 1 0 1 0 0 0 1 0 0 0 1 1 1 0 0 1 1 0 0 0 1 1 1 1 0 1 1 1 0 1 1 1 0 0 1 1\n",
      " 1 0 1 1 1 0 1 0 0 0 0 1 0 1 1 1 1 1 0 1 1 1 0 0 0 0 1 0 0 1 0 0 0 1 0 1 0\n",
      " 0 1 0 1 1 1 1 1 0 0 0 0 0 1 0 1 1 1 0 0 0 0 0 1 0 0 1 1 0 1 0 1 1 1 1 1 1\n",
      " 0 1 1 0 0 0 0 1 0 1 1 1 0 1 0 1 0 1 1 0 0 0 0 1 0 0 0 1 1 0 0 0 0 0 0 0 0\n",
      " 1 0 0 0 1 0 0 0 0 0 1 1 1 1 1 1 0 1 1 0 1 1 0 0 1 1 1 1 1 1]\n"
     ]
    }
   ],
   "source": [
    "svm_rbf_4_pred_1 = svm_rbf_4_1.predict(X_test)\n",
    "print(svm_rbf_4_pred_1)"
   ]
  },
  {
   "cell_type": "code",
   "execution_count": 69,
   "id": "3766e658",
   "metadata": {
    "scrolled": false
   },
   "outputs": [
    {
     "name": "stdout",
     "output_type": "stream",
     "text": [
      "[[201   4]\n",
      " [  5 190]]\n",
      "\n",
      "\n",
      "              precision    recall  f1-score   support\n",
      "\n",
      "           0       0.98      0.98      0.98       205\n",
      "           1       0.98      0.97      0.98       195\n",
      "\n",
      "    accuracy                           0.98       400\n",
      "   macro avg       0.98      0.98      0.98       400\n",
      "weighted avg       0.98      0.98      0.98       400\n",
      "\n"
     ]
    },
    {
     "data": {
      "text/plain": [
       "<bound method ClassifierMixin.score of SVC(C=100, gamma=0.001)>"
      ]
     },
     "execution_count": 69,
     "metadata": {},
     "output_type": "execute_result"
    }
   ],
   "source": [
    "# Making the Confusion Matrix\n",
    "#print(pd.crosstab(Y_test_label, Y_pred_label, rownames=['Actual Activity'], colnames=['Predicted Activity']))\n",
    "print(confusion_matrix(Y_test,svm_rbf_4_pred_1))\n",
    "print(\"\\n\")\n",
    "print(classification_report(Y_test,svm_rbf_4_pred_1))\n",
    "\n",
    "\n",
    "testing.score"
   ]
  },
  {
   "cell_type": "code",
   "execution_count": 70,
   "id": "17c8daee",
   "metadata": {},
   "outputs": [
    {
     "data": {
      "text/plain": [
       "array([[-0.12340351,  1.88293774, -0.38655567, ...,  0.4861522 ,\n",
       "         0.47145543,  0.19257454],\n",
       "       [-0.12340351, -0.531085  , -0.38655567, ...,  0.01519895,\n",
       "         0.47145543,  0.31937259],\n",
       "       [-0.12340351, -0.531085  , -0.38655567, ..., -0.92670756,\n",
       "        -0.51847723, -0.56821377],\n",
       "       ...,\n",
       "       [-0.12340351, -0.531085  , -0.38655567, ...,  0.27208254,\n",
       "         0.05898349,  0.69976675],\n",
       "       [-0.12340351, -0.531085  , -0.38655567, ..., -0.15605678,\n",
       "         0.80143298,  0.12917552],\n",
       "       [-0.12340351, -0.531085  , -0.38655567, ...,  0.87147759,\n",
       "         0.47145543, -0.44141572]])"
      ]
     },
     "execution_count": 70,
     "metadata": {},
     "output_type": "execute_result"
    }
   ],
   "source": [
    "X_test"
   ]
  },
  {
   "cell_type": "code",
   "execution_count": 71,
   "id": "9feb8e1e",
   "metadata": {},
   "outputs": [
    {
     "data": {
      "text/plain": [
       "1630    1\n",
       "1460    1\n",
       "65      0\n",
       "1638    1\n",
       "250     0\n",
       "       ..\n",
       "459     1\n",
       "1835    1\n",
       "1571    1\n",
       "115     1\n",
       "1970    1\n",
       "Name: Diagnosis, Length: 400, dtype: int64"
      ]
     },
     "execution_count": 71,
     "metadata": {},
     "output_type": "execute_result"
    }
   ],
   "source": [
    "Y_test"
   ]
  },
  {
   "cell_type": "code",
   "execution_count": 73,
   "id": "228f9b71",
   "metadata": {
    "scrolled": true
   },
   "outputs": [
    {
     "data": {
      "text/plain": [
       "0    205\n",
       "1    195\n",
       "Name: Diagnosis, dtype: int64"
      ]
     },
     "execution_count": 73,
     "metadata": {},
     "output_type": "execute_result"
    }
   ],
   "source": [
    "Y_test.value_counts()"
   ]
  },
  {
   "cell_type": "code",
   "execution_count": 74,
   "id": "cb1f5b12",
   "metadata": {},
   "outputs": [],
   "source": [
    "predicted = pd.DataFrame(svm_rbf_4_pred_1)\n",
    "predicted\n",
    "predicted.to_csv('prediction.csv', index=False)"
   ]
  },
  {
   "cell_type": "code",
   "execution_count": 75,
   "id": "70aac85c",
   "metadata": {
    "scrolled": true
   },
   "outputs": [
    {
     "data": {
      "text/plain": [
       "0    206\n",
       "1    194\n",
       "dtype: int64"
      ]
     },
     "execution_count": 75,
     "metadata": {},
     "output_type": "execute_result"
    }
   ],
   "source": [
    "predicted.value_counts()"
   ]
  },
  {
   "cell_type": "code",
   "execution_count": 76,
   "id": "ec30b25a",
   "metadata": {},
   "outputs": [
    {
     "name": "stdout",
     "output_type": "stream",
     "text": [
      "tf.Tensor(\n",
      "[[201   4]\n",
      " [  5 190]], shape=(2, 2), dtype=int32)\n"
     ]
    },
    {
     "data": {
      "text/plain": [
       "Text(69.0, 0.5, 'Prediksi Diagnosis Hipertensi, 0: TIdak Hipertensi/1: Hipertensi')"
      ]
     },
     "execution_count": 76,
     "metadata": {},
     "output_type": "execute_result"
    },
    {
     "data": {
      "image/png": "[encoded data removed]",
      "text/plain": [
       "<Figure size 720x504 with 2 Axes>"
      ]
     },
     "metadata": {
      "needs_background": "light"
     },
     "output_type": "display_data"
    }
   ],
   "source": [
    "cm = tf.math.confusion_matrix(labels=Y_test,predictions = svm_rbf_4_pred_1)\n",
    "\n",
    "print(cm)\n",
    "plt.figure(figsize = (10,7))\n",
    "sns.heatmap(cm, annot=True, fmt='d', cmap='Blues')\n",
    "plt.xlabel('Nilai Kebenaran')\n",
    "plt.ylabel('Prediksi Diagnosis Hipertensi, 0: TIdak Hipertensi/1: Hipertensi')"
   ]
  },
  {
   "cell_type": "code",
   "execution_count": 77,
   "id": "d19d22f6",
   "metadata": {
    "scrolled": true
   },
   "outputs": [
    {
     "name": "stdout",
     "output_type": "stream",
     "text": [
      "Akurasi = 0.9775\n",
      "Presisi = 0.977509133219898\n",
      "Recall = 0.9775\n",
      "F-score = 0.9774984519542904\n"
     ]
    }
   ],
   "source": [
    "print(\"Akurasi =\",accuracy_score(svm_rbf_4_pred_1, Y_test))\n",
    "precision, recall, fscore, support = score(Y_test, svm_rbf_4_pred_1, average='weighted')\n",
    "print(\"Presisi =\", precision)\n",
    "print(\"Recall =\", recall)\n",
    "print(\"F-score =\", fscore)"
   ]
  },
  {
   "cell_type": "markdown",
   "id": "2fa8f696",
   "metadata": {},
   "source": [
    "## 5-FOLD CROSS VALIDATION"
   ]
  },
  {
   "cell_type": "code",
   "execution_count": 78,
   "id": "f3475a8f",
   "metadata": {},
   "outputs": [
    {
     "data": {
      "text/plain": [
       "0       0\n",
       "1       0\n",
       "2       0\n",
       "3       0\n",
       "4       0\n",
       "       ..\n",
       "1995    1\n",
       "1996    1\n",
       "1997    1\n",
       "1998    1\n",
       "1999    1\n",
       "Name: Diagnosis, Length: 2000, dtype: int64"
      ]
     },
     "execution_count": 78,
     "metadata": {},
     "output_type": "execute_result"
    }
   ],
   "source": [
    "Y"
   ]
  },
  {
   "cell_type": "code",
   "execution_count": 79,
   "id": "ff5e248a",
   "metadata": {},
   "outputs": [
    {
     "name": "stdout",
     "output_type": "stream",
     "text": [
      "   Precision    Recall  Accuracy\n",
      "0   0.957983  0.942149    0.9700\n",
      "1   0.975904  0.975904    0.9900\n",
      "2   0.972477  0.946429    0.9775\n",
      "3   1.000000  0.936620    0.9550\n",
      "4   1.000000  0.965000    0.9650\n"
     ]
    }
   ],
   "source": [
    "def get_metrics(estimator, X, y):\n",
    "    precision = cross_val_score(estimator, X, y, cv=KFold(n_splits=5), scoring='precision')\n",
    "    recall = cross_val_score(estimator, X, y, cv=KFold(n_splits=5), scoring='recall')\n",
    "    accuracy = cross_val_score(estimator, X, y, cv=KFold(n_splits=5), scoring='accuracy')\n",
    "    return precision, recall, accuracy\n",
    "\n",
    "precision, recall, accuracy = get_metrics(svm_rbf_4_1, X, Y)\n",
    "\n",
    "df = pd.DataFrame({\n",
    "    'Precision': precision,\n",
    "    'Recall': recall,\n",
    "    'Accuracy': accuracy\n",
    "})\n",
    "print(df)\n",
    "\n",
    "df.to_csv('metrics_scores.csv', index=False)"
   ]
  },
  {
   "cell_type": "code",
   "execution_count": 80,
   "id": "2a8b8b4c",
   "metadata": {
    "scrolled": false
   },
   "outputs": [
    {
     "name": "stdout",
     "output_type": "stream",
     "text": [
      "[   4   44   50   57   72   99  126  137  139  156  158  160  192  199\n",
      "  209  235  242  267  279  291  328  347  358  375  409  412  438  439\n",
      "  446  454  456  459  462  465  475  481  485  486  512  525  527  552\n",
      "  591  595  596  610  629  635  647  650  655  657  663  664  667  690\n",
      "  695  700  712  714  715  718  753  763  768  772  793  807  808  815\n",
      "  831  859  865  866  868  870  874  889  896  910  921  948  956  957\n",
      "  979  983 1010 1012 1028 1045 1049 1052 1066 1067 1073 1077 1079 1093\n",
      " 1096 1109 1133 1151 1156 1159 1162 1184 1226 1239 1245 1254 1256 1257\n",
      " 1259 1285 1286 1291 1293 1299 1335 1348 1352 1355 1361 1368 1373 1377\n",
      " 1381 1386 1404 1417 1435 1441 1467 1468 1485 1515 1533 1535 1554 1577\n",
      "    1    6    9   26   59  140  167  175  178  197  203  208  216  219\n",
      "  221  224  236  239  261  268  276  281  285  287  299  317  343  360\n",
      "  373  397  419  423  427  435  450  452  488  510  520  521  532  537\n",
      "  547  553  558  559  564  597  600  622  630  641  673  703  717  719\n",
      "  723  755  761  762  769  781  783  788  795  804  827  836  846  848\n",
      "  860  880  891  922  924  935  940  954  960  967  972  975  982 1011\n",
      " 1014 1015 1030 1037 1040 1050 1055 1061 1086 1105 1115 1123 1130 1138\n",
      " 1152 1165 1171 1177 1179 1185 1186 1202 1207 1208 1216 1219 1223 1233\n",
      " 1246 1253 1255 1272 1316 1320 1328 1329 1339 1356 1379 1397 1409 1412\n",
      " 1436 1459 1470 1477 1496 1520 1530 1545 1559 1563 1566 1569 1590]\n"
     ]
    }
   ],
   "source": [
    "# Pengaturan model SVM\n",
    "# model = SVC().fit(X_train, Y_train)\n",
    "predicted = testing.predict(X_train)\n",
    "\n",
    "# Get support vector indices\n",
    "support_vector_indices = testing.support_\n",
    "print(support_vector_indices)"
   ]
  },
  {
   "cell_type": "code",
   "execution_count": 81,
   "id": "7d56123b",
   "metadata": {},
   "outputs": [
    {
     "name": "stdout",
     "output_type": "stream",
     "text": [
      "[140 139]\n"
     ]
    }
   ],
   "source": [
    "# Get number of support vectors per class\n",
    "support_vectors_per_class = testing.n_support_\n",
    "print(support_vectors_per_class)"
   ]
  },
  {
   "cell_type": "code",
   "execution_count": 82,
   "id": "1c0b42bf",
   "metadata": {},
   "outputs": [
    {
     "data": {
      "text/plain": [
       "array([[-0.1153237 , -0.51655108,  2.74055438, ...,  0.60536617,\n",
       "        -2.20084845,  1.41010686],\n",
       "       [-0.1153237 , -0.51655108, -0.36488968, ...,  0.26518323,\n",
       "         0.24231553,  1.81880881],\n",
       "       [-0.1153237 , -0.51655108, -0.36488968, ..., -1.22311712,\n",
       "        -2.03235439, -1.24645579],\n",
       "       ...,\n",
       "       [-0.1153237 , -0.51655108, -0.36488968, ...,  0.5628433 ,\n",
       "         1.25327994,  0.45646899],\n",
       "       [-0.1153237 , -0.51655108, -0.36488968, ..., -0.45770551,\n",
       "        -0.43166074, -0.63340287],\n",
       "       [-0.1153237 , -0.51655108,  2.74055438, ..., -0.88293418,\n",
       "        -0.34741371,  0.66081996]])"
      ]
     },
     "execution_count": 82,
     "metadata": {},
     "output_type": "execute_result"
    }
   ],
   "source": [
    "X_train"
   ]
  },
  {
   "cell_type": "markdown",
   "id": "72297188",
   "metadata": {},
   "source": [
    "# Visualization with SVM"
   ]
  },
  {
   "cell_type": "code",
   "execution_count": 83,
   "id": "9e71c345",
   "metadata": {},
   "outputs": [],
   "source": [
    "# mengambil dua kolom terakhir dr atribut\n",
    "X = dataset[[\"SISTOL\", \"DIASTOL\"]]\n",
    "Y = dataset[\"Diagnosis\"]\n",
    "\n",
    "X_train, X_test, Y_train, Y_test = train_test_split(X, Y, test_size = 0.2)"
   ]
  },
  {
   "cell_type": "code",
   "execution_count": 84,
   "id": "0103f672",
   "metadata": {},
   "outputs": [],
   "source": [
    "#feature scalling\n",
    "from sklearn.preprocessing import StandardScaler\n",
    "sc = StandardScaler()\n",
    "X_train = sc.fit_transform(X_train)\n",
    "X_test = sc.fit_transform(X_test)"
   ]
  },
  {
   "cell_type": "code",
   "execution_count": 85,
   "id": "659ed791",
   "metadata": {
    "scrolled": true
   },
   "outputs": [
    {
     "name": "stderr",
     "output_type": "stream",
     "text": [
      "No handles with labels found to put in legend.\n"
     ]
    },
    {
     "data": {
      "image/png": "[encoded data removed]",
      "text/plain": [
       "<Figure size 432x288 with 1 Axes>"
      ]
     },
     "metadata": {},
     "output_type": "display_data"
    }
   ],
   "source": [
    "from sklearn.svm import SVC\n",
    "import numpy as np\n",
    "import matplotlib.pyplot as plt\n",
    "from sklearn import svm, datasets\n",
    "\n",
    "def make_meshgrid(X_train, Y_train, h=.05):\n",
    "    x_min, x_max = X_train.min() - 1, X_train.max() + 1\n",
    "    y_min, y_max = Y_train.min() - 1, Y_train.max() + 1\n",
    "    xx, yy = np.meshgrid(np.arange(x_min, x_max, h), np.arange(y_min, y_max, h))\n",
    "    return xx, yy\n",
    "\n",
    "def plot_contours(ax, clf, xx, yy, **params):\n",
    "    Z = clf.predict(np.c_[xx.ravel(), yy.ravel()])\n",
    "    Z = Z.reshape(xx.shape)\n",
    "    out = ax.contourf(xx, yy, Z, **params)\n",
    "    return out\n",
    "\n",
    "# model = svm.SVC(kernel='linear')\n",
    "# testing = svm.SVC(kernel='rbf', gamma=0.001, C=100).fit(X_train, Y_train)\n",
    "clf = svm_rbf_4_1.fit(X_train, Y_train)\n",
    "\n",
    "fig, ax = plt.subplots()\n",
    "# title for the plots\n",
    "title = ('Plot Klasifikasi SVM dengan kernel RBF')\n",
    "# Set-up grid for plotting.\n",
    "X0, X1 = X_train[:, 0], X_train[:, 1]\n",
    "xx, yy = make_meshgrid(X0, X1)\n",
    "\n",
    "plot_contours(ax, clf, xx, yy, cmap=plt.cm.coolwarm, alpha=0.8)\n",
    "ax.scatter(X0, X1, c=Y_train, cmap=plt.cm.coolwarm, s=20, edgecolors='k')\n",
    "ax.set_ylabel('Tekanan Diastolik')\n",
    "ax.set_xlabel('Tekanan Sistolik')\n",
    "ax.set_xticks(())\n",
    "ax.set_yticks(())\n",
    "ax.set_title(title)\n",
    "ax.legend()\n",
    "plt.show()"
   ]
  },
  {
   "cell_type": "code",
   "execution_count": 86,
   "id": "2b8836b6",
   "metadata": {},
   "outputs": [],
   "source": [
    "# mengambil dua kolom terakhir dr atribut\n",
    "# X_2 = dataset[[\"KURANG MAKAN BUAH DAN SAYUR\", \"LEMAK BERLEBIHAN\"]]\n",
    "# X_2 = dataset[[\"MEROKOK\", \"KURANG AKTIFITAS FISIK\"]]\n",
    "# X_2 = dataset[[\"GULA BERLEBIHAN\",\"GARAM BERLEBIHAN\"]]\n",
    "# X_2 = dataset[[\"KONSUMSI ALKOHOL\",\"Usia\"]]\n",
    "X_2 = dataset[[\"DIASTOL\",\"SISTOL\"]]\n",
    "# X_2 = dataset[[\"KONSUMSI ALKOHOL\",\"SISTOL\"]]\n",
    "Y_2 = dataset[\"Diagnosis\"]\n",
    "X_train, X_test, Y_train, Y_test = train_test_split(X_2, Y_2, test_size = 0.2)"
   ]
  },
  {
   "cell_type": "code",
   "execution_count": 87,
   "id": "6820dea4",
   "metadata": {},
   "outputs": [],
   "source": [
    "#feature scalling\n",
    "from sklearn.preprocessing import StandardScaler\n",
    "sc = StandardScaler()\n",
    "X_train = sc.fit_transform(X_train)\n",
    "X_test = sc.fit_transform(X_test)"
   ]
  },
  {
   "cell_type": "code",
   "execution_count": 88,
   "id": "4266969b",
   "metadata": {
    "scrolled": false
   },
   "outputs": [
    {
     "data": {
      "image/png": "[encoded data removed]",
      "text/plain": [
       "<Figure size 432x288 with 1 Axes>"
      ]
     },
     "metadata": {},
     "output_type": "display_data"
    }
   ],
   "source": [
    "from sklearn.svm import SVC\n",
    "import numpy as np\n",
    "import matplotlib.pyplot as plt\n",
    "from sklearn import svm, datasets\n",
    "\n",
    "def make_meshgrid(X_train, Y_train, h=.01):\n",
    "    x_min, x_max = X_train.min() - 1, X_train.max() + 1\n",
    "    y_min, y_max = Y_train.min() - 1, Y_train.max() + 1\n",
    "    xx, yy = np.meshgrid(np.arange(x_min, x_max, h), np.arange(y_min, y_max, h))\n",
    "    return xx, yy\n",
    "\n",
    "def plot_contours(ax, clf, xx, yy, **params):\n",
    "    Z = clf.predict(np.c_[xx.ravel(), yy.ravel()])\n",
    "    Z = Z.reshape(xx.shape)\n",
    "    out = ax.contourf(xx, yy, Z, **params)\n",
    "    return out\n",
    "\n",
    "# model = svm.SVC(kernel='linear')\n",
    "# testing = svm.SVC(kernel='rbf', gamma=0.001, C=100).fit(X_train, Y_train)\n",
    "svm_rbf_4_1 = svm.SVC(kernel='rbf', C=100, gamma = 0.1).fit(X_train, Y_train)\n",
    "clf = svm_rbf_4_1.fit(X_train, Y_train)\n",
    "\n",
    "fig, ax = plt.subplots()\n",
    "# title for the plots\n",
    "title = ('Plot Klasifikasi SVM dengan kernel RBF')\n",
    "# Set-up grid for plotting.\n",
    "X0, X1 = X_train[:, 0], X_train[:, 1]\n",
    "xx, yy = make_meshgrid(X0, X1)\n",
    "\n",
    "plot_contours(ax, clf, xx, yy, cmap=plt.cm.coolwarm, alpha=0.8)\n",
    "ax.scatter(X0, X1, c=Y_train, cmap=plt.cm.coolwarm, s=20, edgecolors='k')\n",
    "ax.set_xlabel('Tekanan Darah Diastolik')\n",
    "ax.set_ylabel('Tekanan Darah Sistolik')\n",
    "ax.set_xticks(())\n",
    "ax.set_yticks(())\n",
    "ax.set_title(title)\n",
    "# ax.legend()\n",
    "plt.show()"
   ]
  }
 ],
 "metadata": {
  "kernelspec": {
   "display_name": "Python 3 (ipykernel)",
   "language": "python",
   "name": "python3"
  },
  "language_info": {
   "codemirror_mode": {
    "name": "ipython",
    "version": 3
   },
   "file_extension": ".py",
   "mimetype": "text/x-python",
   "name": "python",
   "nbconvert_exporter": "python",
   "pygments_lexer": "ipython3",
   "version": "3.9.7"
  },
  "vscode": {
   "interpreter": {
    "hash": "107d7b120a5b68773a87d4067e673630b35702e55ebab3138143d08b1c4d7cbc"
   }
  }
 },
 "nbformat": 4,
 "nbformat_minor": 5
}
